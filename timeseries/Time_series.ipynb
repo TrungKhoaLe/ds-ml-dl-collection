{
  "nbformat": 4,
  "nbformat_minor": 0,
  "metadata": {
    "colab": {
      "provenance": []
    },
    "kernelspec": {
      "name": "python3",
      "display_name": "Python 3"
    },
    "language_info": {
      "name": "python"
    }
  },
  "cells": [
    {
      "cell_type": "markdown",
      "source": [
        "# Time series forecasting projects"
      ],
      "metadata": {
        "id": "DQzZ8hVA5NKj"
      }
    },
    {
      "cell_type": "markdown",
      "source": [
        "## 5-step forecasting task\n",
        "\n",
        "1. Problem definition\n",
        "\n",
        "We need to determine the people who needs the forecasts and how the forecasts will be used. This is the most challenging part of the process.\n",
        "\n",
        "2. Gathering information\n",
        "\n",
        "The processing of collecting historical data to analyze and model. This also involves getting access to domain experts and gathering information that can help to best interpret the historical information, and ultimately the forecasts that will be used.\n",
        "\n",
        "3. Data exploratory analysis (EDA)\n",
        "\n",
        "The use of simple tools, like graphing, to better understand the data. Review plots and summarize and note obvious temporal stuctures, like trends seasonality, anomalies like missing data, corruption,\n",
        "and outliers, and any other structures that may impact forecasting.\n",
        "\n",
        "4. Choosing and fitting models\n",
        "\n",
        "The evaluation of two, three or suite of models of various types on the problem. Models may be chosen on the assumptions they make and whether the data conforms. Models are configured and fitted on the historical data.\n",
        "\n",
        "5. Using and evaluating a forecasting model\n",
        "\n",
        "The trained model is utilized to make forecasts and the performance of those forecasts are evaluated and the skill of models estimated."
      ],
      "metadata": {
        "id": "1hNlpzbUBo8x"
      }
    },
    {
      "cell_type": "markdown",
      "source": [
        "# Setup"
      ],
      "metadata": {
        "id": "1fzpIWk5agRn"
      }
    },
    {
      "cell_type": "code",
      "source": [
        "import logging\n",
        "\n",
        "FORMAT = '%(levelname)s:%(asctime)s:%(message)s'\n",
        "logging.basicConfig(format=FORMAT, level=logging.INFO, force=True)\n",
        "logging.info('TEST')"
      ],
      "metadata": {
        "colab": {
          "base_uri": "https://localhost:8080/"
        },
        "id": "2GoeVNkmaf-m",
        "outputId": "bed4c19d-7654-4a9b-d48b-768c146355ee"
      },
      "execution_count": 1,
      "outputs": [
        {
          "output_type": "stream",
          "name": "stderr",
          "text": [
            "INFO:2022-12-17 15:06:10,129:TEST\n"
          ]
        }
      ]
    },
    {
      "cell_type": "markdown",
      "source": [
        "# Project 1: Monthly armed robberies in Boston"
      ],
      "metadata": {
        "id": "KovhcOI5LgmP"
      }
    },
    {
      "cell_type": "markdown",
      "source": [
        "## Problem description\n",
        "\n",
        "The problem is to predict the number of armed robberies that happen in Boston every month. We are going to use a public dataset curated by McCleary and Hay. The dataset has 118 observations and it describes the number of monthly armed robberies in Boston from January 1966 to October 1975.\n"
      ],
      "metadata": {
        "id": "7lEXCz6sOqYt"
      }
    },
    {
      "cell_type": "markdown",
      "source": [
        "## Test harness\n",
        "\n",
        "- Defining a validation dataset\n",
        "\n",
        "- Developing a method for model evaluation"
      ],
      "metadata": {
        "id": "KUTmZdMeMzow"
      }
    },
    {
      "cell_type": "markdown",
      "source": [
        "### Creating the validation dataset"
      ],
      "metadata": {
        "id": "c2ljjm89dIf8"
      }
    },
    {
      "cell_type": "code",
      "source": [
        "import pandas as pd\n",
        "\n",
        "ds = pd.read_csv('https://raw.githubusercontent.com/jbrownlee/Datasets/master/monthly-robberies.csv',\n",
        "                 header=0,\n",
        "                 index_col=0,\n",
        "                 parse_dates=True,\n",
        "                 squeeze=True)\n",
        "split_point = len(ds) - 12  # grab the last twelve months \n",
        "                            # to use as the validation set\n",
        "train_set, test_set = ds[0: split_point], ds[split_point:]\n",
        "logging.info(f'Training set: {len(train_set)}, Validation set: {len(test_set)}')"
      ],
      "metadata": {
        "colab": {
          "base_uri": "https://localhost:8080/"
        },
        "id": "5G078YhJBgYi",
        "outputId": "bc2bca02-ba73-4a25-a70b-63aaa405ea40"
      },
      "execution_count": 3,
      "outputs": [
        {
          "output_type": "stream",
          "name": "stderr",
          "text": [
            "INFO:2022-12-17 15:15:52,601:Training set: 106, Validation set: 12\n"
          ]
        }
      ]
    },
    {
      "cell_type": "markdown",
      "source": [
        "### Model evaluation\n",
        "\n",
        "Model evaluation involves two components:\n",
        "\n",
        "- Performance measure\n",
        "- Test strategy\n",
        "\n",
        "**Performance measure**\n",
        "\n",
        "We are going to use RMSE. RMSE gives more weight to predictions that are grossly wrong and has the same units as the original data.\n",
        "\n",
        "**Test strategy** \n",
        "\n",
        "Candidate models are evaluated using the walk-forward validation method."
      ],
      "metadata": {
        "id": "NXF1RKL6dO8L"
      }
    },
    {
      "cell_type": "markdown",
      "source": [
        "## Persistence model\n",
        "\n",
        "We are going to use the observation from the previous time step as the prediction for the observation at the next time step."
      ],
      "metadata": {
        "id": "oDzYJmcYoBfC"
      }
    },
    {
      "cell_type": "code",
      "execution_count": 4,
      "metadata": {
        "colab": {
          "base_uri": "https://localhost:8080/"
        },
        "id": "IRBEc0VD23FQ",
        "outputId": "8f703d5c-534a-470e-d0fb-b57e7a85a646"
      },
      "outputs": [
        {
          "output_type": "stream",
          "name": "stderr",
          "text": [
            "INFO:2022-12-17 15:29:39,339:Predicted: 98, Expected: 125\n",
            "INFO:2022-12-17 15:29:39,342:Predicted: 125, Expected: 155\n",
            "INFO:2022-12-17 15:29:39,344:Predicted: 155, Expected: 190\n",
            "INFO:2022-12-17 15:29:39,346:Predicted: 190, Expected: 236\n",
            "INFO:2022-12-17 15:29:39,350:Predicted: 236, Expected: 189\n",
            "INFO:2022-12-17 15:29:39,352:Predicted: 189, Expected: 174\n",
            "INFO:2022-12-17 15:29:39,355:Predicted: 174, Expected: 178\n",
            "INFO:2022-12-17 15:29:39,357:Predicted: 178, Expected: 136\n",
            "INFO:2022-12-17 15:29:39,358:Predicted: 136, Expected: 161\n",
            "INFO:2022-12-17 15:29:39,360:Predicted: 161, Expected: 171\n",
            "INFO:2022-12-17 15:29:39,361:Predicted: 171, Expected: 149\n",
            "INFO:2022-12-17 15:29:39,363:Predicted: 149, Expected: 184\n",
            "INFO:2022-12-17 15:29:39,364:Predicted: 184, Expected: 155\n",
            "INFO:2022-12-17 15:29:39,366:Predicted: 155, Expected: 276\n",
            "INFO:2022-12-17 15:29:39,367:Predicted: 276, Expected: 224\n",
            "INFO:2022-12-17 15:29:39,369:Predicted: 224, Expected: 213\n",
            "INFO:2022-12-17 15:29:39,370:Predicted: 213, Expected: 279\n",
            "INFO:2022-12-17 15:29:39,372:Predicted: 279, Expected: 268\n",
            "INFO:2022-12-17 15:29:39,373:Predicted: 268, Expected: 287\n",
            "INFO:2022-12-17 15:29:39,375:Predicted: 287, Expected: 238\n",
            "INFO:2022-12-17 15:29:39,376:Predicted: 238, Expected: 213\n",
            "INFO:2022-12-17 15:29:39,378:Predicted: 213, Expected: 257\n",
            "INFO:2022-12-17 15:29:39,379:Predicted: 257, Expected: 293\n",
            "INFO:2022-12-17 15:29:39,380:Predicted: 293, Expected: 212\n",
            "INFO:2022-12-17 15:29:39,382:Predicted: 212, Expected: 246\n",
            "INFO:2022-12-17 15:29:39,383:Predicted: 246, Expected: 353\n",
            "INFO:2022-12-17 15:29:39,385:Predicted: 353, Expected: 339\n",
            "INFO:2022-12-17 15:29:39,386:Predicted: 339, Expected: 308\n",
            "INFO:2022-12-17 15:29:39,388:Predicted: 308, Expected: 247\n",
            "INFO:2022-12-17 15:29:39,389:Predicted: 247, Expected: 257\n",
            "INFO:2022-12-17 15:29:39,391:Predicted: 257, Expected: 322\n",
            "INFO:2022-12-17 15:29:39,392:Predicted: 322, Expected: 298\n",
            "INFO:2022-12-17 15:29:39,394:Predicted: 298, Expected: 273\n",
            "INFO:2022-12-17 15:29:39,395:Predicted: 273, Expected: 312\n",
            "INFO:2022-12-17 15:29:39,397:Predicted: 312, Expected: 249\n",
            "INFO:2022-12-17 15:29:39,398:Predicted: 249, Expected: 286\n",
            "INFO:2022-12-17 15:29:39,400:Predicted: 286, Expected: 279\n",
            "INFO:2022-12-17 15:29:39,401:Predicted: 279, Expected: 309\n",
            "INFO:2022-12-17 15:29:39,402:Predicted: 309, Expected: 401\n",
            "INFO:2022-12-17 15:29:39,404:Predicted: 401, Expected: 309\n",
            "INFO:2022-12-17 15:29:39,405:Predicted: 309, Expected: 328\n",
            "INFO:2022-12-17 15:29:39,406:Predicted: 328, Expected: 353\n",
            "INFO:2022-12-17 15:29:39,408:Predicted: 353, Expected: 354\n",
            "INFO:2022-12-17 15:29:39,409:Predicted: 354, Expected: 327\n",
            "INFO:2022-12-17 15:29:39,411:Predicted: 327, Expected: 324\n",
            "INFO:2022-12-17 15:29:39,412:Predicted: 324, Expected: 285\n",
            "INFO:2022-12-17 15:29:39,413:Predicted: 285, Expected: 243\n",
            "INFO:2022-12-17 15:29:39,415:Predicted: 243, Expected: 241\n",
            "INFO:2022-12-17 15:29:39,416:Predicted: 241, Expected: 287\n",
            "INFO:2022-12-17 15:29:39,418:Predicted: 287, Expected: 355\n",
            "INFO:2022-12-17 15:29:39,419:Predicted: 355, Expected: 460\n",
            "INFO:2022-12-17 15:29:39,420:Predicted: 460, Expected: 364\n",
            "INFO:2022-12-17 15:29:39,422:Predicted: 364, Expected: 487\n",
            "INFO:2022-12-17 15:29:39,424:RMSE: 51.844\n"
          ]
        }
      ],
      "source": [
        "from sklearn.metrics import mean_squared_error\n",
        "from math import sqrt\n",
        "\n",
        "# prepare data\n",
        "X = train_set.values\n",
        "X = X.astype('float32')\n",
        "# split the train dataset into train and validation sets\n",
        "train_size = int(len(train_set) * 0.5)  # 50% of the data\n",
        "                                        # go into the new train set\n",
        "                                        # the other 50% go into the\n",
        "                                        # validation set\n",
        "train_set, val_set = train_set[0: train_size], train_set[train_size:]\n",
        "# walk-forward validation\n",
        "history = [x for x in train_set]\n",
        "predictions = []\n",
        "for i in range(len(val_set)):\n",
        "    y_hat = history[-1]\n",
        "    predictions.append(y_hat)\n",
        "\n",
        "    obs = val_set[i]\n",
        "    history.append(obs)\n",
        "    logging.info(f'Predicted: {y_hat}, Expected: {obs}')\n",
        "\n",
        "# report performance\n",
        "rmse = sqrt(mean_squared_error(val_set, predictions))\n",
        "logging.info(f'RMSE: {rmse:.3f}')"
      ]
    },
    {
      "cell_type": "markdown",
      "source": [
        "## Data analysis"
      ],
      "metadata": {
        "id": "Ee8pF5_6tQXs"
      }
    },
    {
      "cell_type": "markdown",
      "source": [
        "### Summary statistics"
      ],
      "metadata": {
        "id": "vZxJpdu9tT2D"
      }
    },
    {
      "cell_type": "code",
      "source": [
        "logging.info(train_set.describe())"
      ],
      "metadata": {
        "colab": {
          "base_uri": "https://localhost:8080/"
        },
        "id": "89xTSC9JtRoR",
        "outputId": "698912ea-ce77-4d96-c3f9-1deeb40ec28f"
      },
      "execution_count": 5,
      "outputs": [
        {
          "output_type": "stream",
          "name": "stderr",
          "text": [
            "INFO:2022-12-17 15:42:35,090:count     53.000000\n",
            "mean      79.056604\n",
            "std       35.344685\n",
            "min       29.000000\n",
            "25%       49.000000\n",
            "50%       74.000000\n",
            "75%      108.000000\n",
            "max      158.000000\n",
            "Name: Robberies, dtype: float64\n"
          ]
        }
      ]
    },
    {
      "cell_type": "code",
      "source": [],
      "metadata": {
        "id": "ABA9dxy4wFjH"
      },
      "execution_count": null,
      "outputs": []
    }
  ]
}