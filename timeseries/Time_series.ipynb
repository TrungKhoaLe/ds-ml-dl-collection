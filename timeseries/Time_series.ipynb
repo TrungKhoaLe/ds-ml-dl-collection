{
  "nbformat": 4,
  "nbformat_minor": 0,
  "metadata": {
    "colab": {
      "provenance": []
    },
    "kernelspec": {
      "name": "python3",
      "display_name": "Python 3"
    },
    "language_info": {
      "name": "python"
    }
  },
  "cells": [
    {
      "cell_type": "markdown",
      "source": [
        "# Time series forecasting projects"
      ],
      "metadata": {
        "id": "DQzZ8hVA5NKj"
      }
    },
    {
      "cell_type": "markdown",
      "source": [
        "## 5-step forecasting task\n",
        "\n",
        "1. Problem definition\n",
        "\n",
        "We need to determine the people who needs the forecasts and how the forecasts will be used. This is the most challenging part of the process.\n",
        "\n",
        "2. Gathering information\n",
        "\n",
        "The processing of collecting historical data to analyze and model. This also involves getting access to domain experts and gathering information that can help to best interpret the historical information, and ultimately the forecasts that will be used.\n",
        "\n",
        "3. Data exploratory analysis (EDA)\n",
        "\n",
        "The use of simple tools, like graphing, to better understand the data. Review plots and summarize and note obvious temporal stuctures, like trends seasonality, anomalies like missing data, corruption,\n",
        "and outliers, and any other structures that may impact forecasting.\n",
        "\n",
        "4. Choosing and fitting models\n",
        "\n",
        "The evaluation of two, three or suite of models of various types on the problem. Models may be chosen on the assumptions they make and whether the data conforms. Models are configured and fitted on the historical data.\n",
        "\n",
        "5. Using and evaluating a forecasting model\n",
        "\n",
        "The trained model is utilized to make forecasts and the performance of those forecasts are evaluated and the skill of models estimated."
      ],
      "metadata": {
        "id": "1hNlpzbUBo8x"
      }
    },
    {
      "cell_type": "markdown",
      "source": [
        "# Setup"
      ],
      "metadata": {
        "id": "1fzpIWk5agRn"
      }
    },
    {
      "cell_type": "code",
      "source": [
        "import logging\n",
        "\n",
        "FORMAT = '%(levelname)s:%(asctime)s:%(message)s'\n",
        "logging.basicConfig(format=FORMAT, level=logging.INFO, force=True)"
      ],
      "metadata": {
        "id": "2GoeVNkmaf-m"
      },
      "execution_count": 1,
      "outputs": []
    },
    {
      "cell_type": "markdown",
      "source": [
        "# Project 1: Monthly armed robberies in Boston"
      ],
      "metadata": {
        "id": "KovhcOI5LgmP"
      }
    },
    {
      "cell_type": "markdown",
      "source": [
        "## Problem description\n",
        "\n",
        "The problem is to predict the number of armed robberies that happen in Boston every month. We are going to use a public dataset curated by McCleary and Hay. The dataset has 118 observations and it describes the number of monthly armed robberies in Boston from January 1966 to October 1975.\n"
      ],
      "metadata": {
        "id": "7lEXCz6sOqYt"
      }
    },
    {
      "cell_type": "markdown",
      "source": [
        "## Test harness\n",
        "\n",
        "- Defining a validation dataset\n",
        "\n",
        "- Developing a method for model evaluation"
      ],
      "metadata": {
        "id": "KUTmZdMeMzow"
      }
    },
    {
      "cell_type": "markdown",
      "source": [
        "### Creating the validation dataset"
      ],
      "metadata": {
        "id": "c2ljjm89dIf8"
      }
    },
    {
      "cell_type": "code",
      "source": [
        "import pandas as pd\n",
        "\n",
        "ds = pd.read_csv('https://raw.githubusercontent.com/jbrownlee/Datasets/master/monthly-robberies.csv',\n",
        "                 header=0,\n",
        "                 index_col=0,\n",
        "                 parse_dates=True,\n",
        "                 squeeze=True)\n",
        "split_point = len(ds) - 12  # grab the last twelve months \n",
        "                            # to use as the validation set\n",
        "train_set, test_set = ds[0: split_point], ds[split_point:]\n",
        "logging.info(f'Training set: {len(train_set)}, Validation set: {len(test_set)}')"
      ],
      "metadata": {
        "colab": {
          "base_uri": "https://localhost:8080/"
        },
        "id": "5G078YhJBgYi",
        "outputId": "00090cb1-e63f-4f3a-dea5-33dc7634e35c"
      },
      "execution_count": 2,
      "outputs": [
        {
          "output_type": "stream",
          "name": "stderr",
          "text": [
            "INFO:2022-12-18 08:56:04,221:NumExpr defaulting to 2 threads.\n",
            "INFO:2022-12-18 08:56:04,552:Training set: 106, Validation set: 12\n"
          ]
        }
      ]
    },
    {
      "cell_type": "markdown",
      "source": [
        "### Model evaluation\n",
        "\n",
        "Model evaluation involves two components:\n",
        "\n",
        "- Performance measure\n",
        "- Test strategy\n",
        "\n",
        "**Performance measure**\n",
        "\n",
        "We are going to use RMSE. RMSE gives more weight to predictions that are grossly wrong and has the same units as the original data.\n",
        "\n",
        "**Test strategy** \n",
        "\n",
        "Candidate models are evaluated using the walk-forward validation method."
      ],
      "metadata": {
        "id": "NXF1RKL6dO8L"
      }
    },
    {
      "cell_type": "markdown",
      "source": [
        "## Persistence model\n",
        "\n",
        "We are going to use the observation from the previous time step as the prediction for the observation at the next time step."
      ],
      "metadata": {
        "id": "oDzYJmcYoBfC"
      }
    },
    {
      "cell_type": "code",
      "execution_count": 3,
      "metadata": {
        "colab": {
          "base_uri": "https://localhost:8080/"
        },
        "id": "IRBEc0VD23FQ",
        "outputId": "4da7e7e3-49ae-4a58-b476-a6da2a743208"
      },
      "outputs": [
        {
          "output_type": "stream",
          "name": "stderr",
          "text": [
            "INFO:2022-12-18 08:55:23,790:Predicted: 98, Expected: 125\n",
            "INFO:2022-12-18 08:55:23,792:Predicted: 125, Expected: 155\n",
            "INFO:2022-12-18 08:55:23,795:Predicted: 155, Expected: 190\n",
            "INFO:2022-12-18 08:55:23,798:Predicted: 190, Expected: 236\n",
            "INFO:2022-12-18 08:55:23,800:Predicted: 236, Expected: 189\n",
            "INFO:2022-12-18 08:55:23,803:Predicted: 189, Expected: 174\n",
            "INFO:2022-12-18 08:55:23,805:Predicted: 174, Expected: 178\n",
            "INFO:2022-12-18 08:55:23,807:Predicted: 178, Expected: 136\n",
            "INFO:2022-12-18 08:55:23,809:Predicted: 136, Expected: 161\n",
            "INFO:2022-12-18 08:55:23,811:Predicted: 161, Expected: 171\n",
            "INFO:2022-12-18 08:55:23,817:Predicted: 171, Expected: 149\n",
            "INFO:2022-12-18 08:55:23,819:Predicted: 149, Expected: 184\n",
            "INFO:2022-12-18 08:55:23,820:Predicted: 184, Expected: 155\n",
            "INFO:2022-12-18 08:55:23,821:Predicted: 155, Expected: 276\n",
            "INFO:2022-12-18 08:55:23,823:Predicted: 276, Expected: 224\n",
            "INFO:2022-12-18 08:55:23,825:Predicted: 224, Expected: 213\n",
            "INFO:2022-12-18 08:55:23,826:Predicted: 213, Expected: 279\n",
            "INFO:2022-12-18 08:55:23,828:Predicted: 279, Expected: 268\n",
            "INFO:2022-12-18 08:55:23,829:Predicted: 268, Expected: 287\n",
            "INFO:2022-12-18 08:55:23,831:Predicted: 287, Expected: 238\n",
            "INFO:2022-12-18 08:55:23,833:Predicted: 238, Expected: 213\n",
            "INFO:2022-12-18 08:55:23,834:Predicted: 213, Expected: 257\n",
            "INFO:2022-12-18 08:55:23,836:Predicted: 257, Expected: 293\n",
            "INFO:2022-12-18 08:55:23,837:Predicted: 293, Expected: 212\n",
            "INFO:2022-12-18 08:55:23,838:Predicted: 212, Expected: 246\n",
            "INFO:2022-12-18 08:55:23,840:Predicted: 246, Expected: 353\n",
            "INFO:2022-12-18 08:55:23,841:Predicted: 353, Expected: 339\n",
            "INFO:2022-12-18 08:55:23,843:Predicted: 339, Expected: 308\n",
            "INFO:2022-12-18 08:55:23,861:Predicted: 308, Expected: 247\n",
            "INFO:2022-12-18 08:55:23,863:Predicted: 247, Expected: 257\n",
            "INFO:2022-12-18 08:55:23,866:Predicted: 257, Expected: 322\n",
            "INFO:2022-12-18 08:55:23,867:Predicted: 322, Expected: 298\n",
            "INFO:2022-12-18 08:55:23,869:Predicted: 298, Expected: 273\n",
            "INFO:2022-12-18 08:55:23,870:Predicted: 273, Expected: 312\n",
            "INFO:2022-12-18 08:55:23,871:Predicted: 312, Expected: 249\n",
            "INFO:2022-12-18 08:55:23,873:Predicted: 249, Expected: 286\n",
            "INFO:2022-12-18 08:55:23,874:Predicted: 286, Expected: 279\n",
            "INFO:2022-12-18 08:55:23,876:Predicted: 279, Expected: 309\n",
            "INFO:2022-12-18 08:55:23,877:Predicted: 309, Expected: 401\n",
            "INFO:2022-12-18 08:55:23,879:Predicted: 401, Expected: 309\n",
            "INFO:2022-12-18 08:55:23,880:Predicted: 309, Expected: 328\n",
            "INFO:2022-12-18 08:55:23,881:Predicted: 328, Expected: 353\n",
            "INFO:2022-12-18 08:55:23,883:Predicted: 353, Expected: 354\n",
            "INFO:2022-12-18 08:55:23,884:Predicted: 354, Expected: 327\n",
            "INFO:2022-12-18 08:55:23,886:Predicted: 327, Expected: 324\n",
            "INFO:2022-12-18 08:55:23,887:Predicted: 324, Expected: 285\n",
            "INFO:2022-12-18 08:55:23,889:Predicted: 285, Expected: 243\n",
            "INFO:2022-12-18 08:55:23,890:Predicted: 243, Expected: 241\n",
            "INFO:2022-12-18 08:55:23,891:Predicted: 241, Expected: 287\n",
            "INFO:2022-12-18 08:55:23,893:Predicted: 287, Expected: 355\n",
            "INFO:2022-12-18 08:55:23,897:Predicted: 355, Expected: 460\n",
            "INFO:2022-12-18 08:55:23,923:Predicted: 460, Expected: 364\n",
            "INFO:2022-12-18 08:55:23,926:Predicted: 364, Expected: 487\n",
            "INFO:2022-12-18 08:55:23,931:RMSE: 51.844\n"
          ]
        }
      ],
      "source": [
        "from sklearn.metrics import mean_squared_error\n",
        "from math import sqrt\n",
        "\n",
        "# prepare data\n",
        "X = train_set.values\n",
        "X = X.astype('float32')\n",
        "# split the train dataset into train and validation sets\n",
        "train_size = int(len(train_set) * 0.5)  # 50% of the data\n",
        "                                        # go into the new train set\n",
        "                                        # the other 50% go into the\n",
        "                                        # validation set\n",
        "new_train_set, val_set = train_set[0: train_size], train_set[train_size:]\n",
        "# walk-forward validation\n",
        "history = [x for x in new_train_set]\n",
        "predictions = []\n",
        "for i in range(len(val_set)):\n",
        "    y_hat = history[-1]\n",
        "    predictions.append(y_hat)\n",
        "\n",
        "    obs = val_set[i]\n",
        "    history.append(obs)\n",
        "    logging.info(f'Predicted: {y_hat}, Expected: {obs}')\n",
        "\n",
        "# report performance\n",
        "rmse = sqrt(mean_squared_error(val_set, predictions))\n",
        "logging.info(f'RMSE: {rmse:.3f}')"
      ]
    },
    {
      "cell_type": "markdown",
      "source": [
        "## Data analysis"
      ],
      "metadata": {
        "id": "Ee8pF5_6tQXs"
      }
    },
    {
      "cell_type": "markdown",
      "source": [
        "### Summary statistics"
      ],
      "metadata": {
        "id": "vZxJpdu9tT2D"
      }
    },
    {
      "cell_type": "code",
      "source": [
        "logging.info(train_set.describe())"
      ],
      "metadata": {
        "colab": {
          "base_uri": "https://localhost:8080/"
        },
        "id": "89xTSC9JtRoR",
        "outputId": "5daea97f-fcaf-40ac-9ba9-ee03e2e9bf46"
      },
      "execution_count": 4,
      "outputs": [
        {
          "output_type": "stream",
          "name": "stderr",
          "text": [
            "INFO:2022-12-18 08:55:23,960:count    106.000000\n",
            "mean     173.103774\n",
            "std      112.231133\n",
            "min       29.000000\n",
            "25%       74.750000\n",
            "50%      144.500000\n",
            "75%      271.750000\n",
            "max      487.000000\n",
            "Name: Robberies, dtype: float64\n"
          ]
        }
      ]
    },
    {
      "cell_type": "markdown",
      "source": [
        "From the data summary, there are some observations we can draw:\n",
        "\n",
        "- The number of observations matches our expectations, meaning we are handling the data correctly.\n",
        "\n",
        "- The mean is about 173, which we might consider in this time series.\n",
        "\n",
        "- The standard deviation is relatively large at 112 robberies.\n",
        "\n",
        "- The percentiles along with the standard deviation do suggest a large spread to the data."
      ],
      "metadata": {
        "id": "sMqfd_Fn_G3Q"
      }
    },
    {
      "cell_type": "markdown",
      "source": [
        "### Line plot"
      ],
      "metadata": {
        "id": "DUyFV5bUCicz"
      }
    },
    {
      "cell_type": "code",
      "source": [
        "import plotly.graph_objects as go\n",
        "\n",
        "fig = go.Figure(\n",
        "    go.Scatter(x=train_set.index,\n",
        "               y=train_set.values,\n",
        "    )\n",
        ")\n",
        "fig.update_traces(name='Robberies in Boston',\n",
        "                  showlegend=True)\n",
        "fig.show()"
      ],
      "metadata": {
        "colab": {
          "base_uri": "https://localhost:8080/",
          "height": 542
        },
        "id": "ABA9dxy4wFjH",
        "outputId": "77783171-9148-40b3-c7e4-d934ad980246"
      },
      "execution_count": 5,
      "outputs": [
        {
          "output_type": "display_data",
          "data": {
            "text/html": [
              "<html>\n",
              "<head><meta charset=\"utf-8\" /></head>\n",
              "<body>\n",
              "    <div>            <script src=\"https://cdnjs.cloudflare.com/ajax/libs/mathjax/2.7.5/MathJax.js?config=TeX-AMS-MML_SVG\"></script><script type=\"text/javascript\">if (window.MathJax) {MathJax.Hub.Config({SVG: {font: \"STIX-Web\"}});}</script>                <script type=\"text/javascript\">window.PlotlyConfig = {MathJaxConfig: 'local'};</script>\n",
              "        <script src=\"https://cdn.plot.ly/plotly-2.8.3.min.js\"></script>                <div id=\"5fa3eeba-dac9-4bca-bbbe-212d3b6c8def\" class=\"plotly-graph-div\" style=\"height:525px; width:100%;\"></div>            <script type=\"text/javascript\">                                    window.PLOTLYENV=window.PLOTLYENV || {};                                    if (document.getElementById(\"5fa3eeba-dac9-4bca-bbbe-212d3b6c8def\")) {                    Plotly.newPlot(                        \"5fa3eeba-dac9-4bca-bbbe-212d3b6c8def\",                        [{\"x\":[\"1966-01-01T00:00:00\",\"1966-02-01T00:00:00\",\"1966-03-01T00:00:00\",\"1966-04-01T00:00:00\",\"1966-05-01T00:00:00\",\"1966-06-01T00:00:00\",\"1966-07-01T00:00:00\",\"1966-08-01T00:00:00\",\"1966-09-01T00:00:00\",\"1966-10-01T00:00:00\",\"1966-11-01T00:00:00\",\"1966-12-01T00:00:00\",\"1967-01-01T00:00:00\",\"1967-02-01T00:00:00\",\"1967-03-01T00:00:00\",\"1967-04-01T00:00:00\",\"1967-05-01T00:00:00\",\"1967-06-01T00:00:00\",\"1967-07-01T00:00:00\",\"1967-08-01T00:00:00\",\"1967-09-01T00:00:00\",\"1967-10-01T00:00:00\",\"1967-11-01T00:00:00\",\"1967-12-01T00:00:00\",\"1968-01-01T00:00:00\",\"1968-02-01T00:00:00\",\"1968-03-01T00:00:00\",\"1968-04-01T00:00:00\",\"1968-05-01T00:00:00\",\"1968-06-01T00:00:00\",\"1968-07-01T00:00:00\",\"1968-08-01T00:00:00\",\"1968-09-01T00:00:00\",\"1968-10-01T00:00:00\",\"1968-11-01T00:00:00\",\"1968-12-01T00:00:00\",\"1969-01-01T00:00:00\",\"1969-02-01T00:00:00\",\"1969-03-01T00:00:00\",\"1969-04-01T00:00:00\",\"1969-05-01T00:00:00\",\"1969-06-01T00:00:00\",\"1969-07-01T00:00:00\",\"1969-08-01T00:00:00\",\"1969-09-01T00:00:00\",\"1969-10-01T00:00:00\",\"1969-11-01T00:00:00\",\"1969-12-01T00:00:00\",\"1970-01-01T00:00:00\",\"1970-02-01T00:00:00\",\"1970-03-01T00:00:00\",\"1970-04-01T00:00:00\",\"1970-05-01T00:00:00\",\"1970-06-01T00:00:00\",\"1970-07-01T00:00:00\",\"1970-08-01T00:00:00\",\"1970-09-01T00:00:00\",\"1970-10-01T00:00:00\",\"1970-11-01T00:00:00\",\"1970-12-01T00:00:00\",\"1971-01-01T00:00:00\",\"1971-02-01T00:00:00\",\"1971-03-01T00:00:00\",\"1971-04-01T00:00:00\",\"1971-05-01T00:00:00\",\"1971-06-01T00:00:00\",\"1971-07-01T00:00:00\",\"1971-08-01T00:00:00\",\"1971-09-01T00:00:00\",\"1971-10-01T00:00:00\",\"1971-11-01T00:00:00\",\"1971-12-01T00:00:00\",\"1972-01-01T00:00:00\",\"1972-02-01T00:00:00\",\"1972-03-01T00:00:00\",\"1972-04-01T00:00:00\",\"1972-05-01T00:00:00\",\"1972-06-01T00:00:00\",\"1972-07-01T00:00:00\",\"1972-08-01T00:00:00\",\"1972-09-01T00:00:00\",\"1972-10-01T00:00:00\",\"1972-11-01T00:00:00\",\"1972-12-01T00:00:00\",\"1973-01-01T00:00:00\",\"1973-02-01T00:00:00\",\"1973-03-01T00:00:00\",\"1973-04-01T00:00:00\",\"1973-05-01T00:00:00\",\"1973-06-01T00:00:00\",\"1973-07-01T00:00:00\",\"1973-08-01T00:00:00\",\"1973-09-01T00:00:00\",\"1973-10-01T00:00:00\",\"1973-11-01T00:00:00\",\"1973-12-01T00:00:00\",\"1974-01-01T00:00:00\",\"1974-02-01T00:00:00\",\"1974-03-01T00:00:00\",\"1974-04-01T00:00:00\",\"1974-05-01T00:00:00\",\"1974-06-01T00:00:00\",\"1974-07-01T00:00:00\",\"1974-08-01T00:00:00\",\"1974-09-01T00:00:00\",\"1974-10-01T00:00:00\"],\"y\":[41,39,50,40,43,38,44,35,39,35,29,49,50,59,63,32,39,47,53,60,57,52,70,90,74,62,55,84,94,70,108,139,120,97,126,149,158,124,140,109,114,77,120,133,110,92,97,78,99,107,112,90,98,125,155,190,236,189,174,178,136,161,171,149,184,155,276,224,213,279,268,287,238,213,257,293,212,246,353,339,308,247,257,322,298,273,312,249,286,279,309,401,309,328,353,354,327,324,285,243,241,287,355,460,364,487],\"type\":\"scatter\",\"name\":\"Robberies in Boston\",\"showlegend\":true}],                        {\"template\":{\"data\":{\"bar\":[{\"error_x\":{\"color\":\"#2a3f5f\"},\"error_y\":{\"color\":\"#2a3f5f\"},\"marker\":{\"line\":{\"color\":\"#E5ECF6\",\"width\":0.5},\"pattern\":{\"fillmode\":\"overlay\",\"size\":10,\"solidity\":0.2}},\"type\":\"bar\"}],\"barpolar\":[{\"marker\":{\"line\":{\"color\":\"#E5ECF6\",\"width\":0.5},\"pattern\":{\"fillmode\":\"overlay\",\"size\":10,\"solidity\":0.2}},\"type\":\"barpolar\"}],\"carpet\":[{\"aaxis\":{\"endlinecolor\":\"#2a3f5f\",\"gridcolor\":\"white\",\"linecolor\":\"white\",\"minorgridcolor\":\"white\",\"startlinecolor\":\"#2a3f5f\"},\"baxis\":{\"endlinecolor\":\"#2a3f5f\",\"gridcolor\":\"white\",\"linecolor\":\"white\",\"minorgridcolor\":\"white\",\"startlinecolor\":\"#2a3f5f\"},\"type\":\"carpet\"}],\"choropleth\":[{\"colorbar\":{\"outlinewidth\":0,\"ticks\":\"\"},\"type\":\"choropleth\"}],\"contour\":[{\"colorbar\":{\"outlinewidth\":0,\"ticks\":\"\"},\"colorscale\":[[0.0,\"#0d0887\"],[0.1111111111111111,\"#46039f\"],[0.2222222222222222,\"#7201a8\"],[0.3333333333333333,\"#9c179e\"],[0.4444444444444444,\"#bd3786\"],[0.5555555555555556,\"#d8576b\"],[0.6666666666666666,\"#ed7953\"],[0.7777777777777778,\"#fb9f3a\"],[0.8888888888888888,\"#fdca26\"],[1.0,\"#f0f921\"]],\"type\":\"contour\"}],\"contourcarpet\":[{\"colorbar\":{\"outlinewidth\":0,\"ticks\":\"\"},\"type\":\"contourcarpet\"}],\"heatmap\":[{\"colorbar\":{\"outlinewidth\":0,\"ticks\":\"\"},\"colorscale\":[[0.0,\"#0d0887\"],[0.1111111111111111,\"#46039f\"],[0.2222222222222222,\"#7201a8\"],[0.3333333333333333,\"#9c179e\"],[0.4444444444444444,\"#bd3786\"],[0.5555555555555556,\"#d8576b\"],[0.6666666666666666,\"#ed7953\"],[0.7777777777777778,\"#fb9f3a\"],[0.8888888888888888,\"#fdca26\"],[1.0,\"#f0f921\"]],\"type\":\"heatmap\"}],\"heatmapgl\":[{\"colorbar\":{\"outlinewidth\":0,\"ticks\":\"\"},\"colorscale\":[[0.0,\"#0d0887\"],[0.1111111111111111,\"#46039f\"],[0.2222222222222222,\"#7201a8\"],[0.3333333333333333,\"#9c179e\"],[0.4444444444444444,\"#bd3786\"],[0.5555555555555556,\"#d8576b\"],[0.6666666666666666,\"#ed7953\"],[0.7777777777777778,\"#fb9f3a\"],[0.8888888888888888,\"#fdca26\"],[1.0,\"#f0f921\"]],\"type\":\"heatmapgl\"}],\"histogram\":[{\"marker\":{\"pattern\":{\"fillmode\":\"overlay\",\"size\":10,\"solidity\":0.2}},\"type\":\"histogram\"}],\"histogram2d\":[{\"colorbar\":{\"outlinewidth\":0,\"ticks\":\"\"},\"colorscale\":[[0.0,\"#0d0887\"],[0.1111111111111111,\"#46039f\"],[0.2222222222222222,\"#7201a8\"],[0.3333333333333333,\"#9c179e\"],[0.4444444444444444,\"#bd3786\"],[0.5555555555555556,\"#d8576b\"],[0.6666666666666666,\"#ed7953\"],[0.7777777777777778,\"#fb9f3a\"],[0.8888888888888888,\"#fdca26\"],[1.0,\"#f0f921\"]],\"type\":\"histogram2d\"}],\"histogram2dcontour\":[{\"colorbar\":{\"outlinewidth\":0,\"ticks\":\"\"},\"colorscale\":[[0.0,\"#0d0887\"],[0.1111111111111111,\"#46039f\"],[0.2222222222222222,\"#7201a8\"],[0.3333333333333333,\"#9c179e\"],[0.4444444444444444,\"#bd3786\"],[0.5555555555555556,\"#d8576b\"],[0.6666666666666666,\"#ed7953\"],[0.7777777777777778,\"#fb9f3a\"],[0.8888888888888888,\"#fdca26\"],[1.0,\"#f0f921\"]],\"type\":\"histogram2dcontour\"}],\"mesh3d\":[{\"colorbar\":{\"outlinewidth\":0,\"ticks\":\"\"},\"type\":\"mesh3d\"}],\"parcoords\":[{\"line\":{\"colorbar\":{\"outlinewidth\":0,\"ticks\":\"\"}},\"type\":\"parcoords\"}],\"pie\":[{\"automargin\":true,\"type\":\"pie\"}],\"scatter\":[{\"marker\":{\"colorbar\":{\"outlinewidth\":0,\"ticks\":\"\"}},\"type\":\"scatter\"}],\"scatter3d\":[{\"line\":{\"colorbar\":{\"outlinewidth\":0,\"ticks\":\"\"}},\"marker\":{\"colorbar\":{\"outlinewidth\":0,\"ticks\":\"\"}},\"type\":\"scatter3d\"}],\"scattercarpet\":[{\"marker\":{\"colorbar\":{\"outlinewidth\":0,\"ticks\":\"\"}},\"type\":\"scattercarpet\"}],\"scattergeo\":[{\"marker\":{\"colorbar\":{\"outlinewidth\":0,\"ticks\":\"\"}},\"type\":\"scattergeo\"}],\"scattergl\":[{\"marker\":{\"colorbar\":{\"outlinewidth\":0,\"ticks\":\"\"}},\"type\":\"scattergl\"}],\"scattermapbox\":[{\"marker\":{\"colorbar\":{\"outlinewidth\":0,\"ticks\":\"\"}},\"type\":\"scattermapbox\"}],\"scatterpolar\":[{\"marker\":{\"colorbar\":{\"outlinewidth\":0,\"ticks\":\"\"}},\"type\":\"scatterpolar\"}],\"scatterpolargl\":[{\"marker\":{\"colorbar\":{\"outlinewidth\":0,\"ticks\":\"\"}},\"type\":\"scatterpolargl\"}],\"scatterternary\":[{\"marker\":{\"colorbar\":{\"outlinewidth\":0,\"ticks\":\"\"}},\"type\":\"scatterternary\"}],\"surface\":[{\"colorbar\":{\"outlinewidth\":0,\"ticks\":\"\"},\"colorscale\":[[0.0,\"#0d0887\"],[0.1111111111111111,\"#46039f\"],[0.2222222222222222,\"#7201a8\"],[0.3333333333333333,\"#9c179e\"],[0.4444444444444444,\"#bd3786\"],[0.5555555555555556,\"#d8576b\"],[0.6666666666666666,\"#ed7953\"],[0.7777777777777778,\"#fb9f3a\"],[0.8888888888888888,\"#fdca26\"],[1.0,\"#f0f921\"]],\"type\":\"surface\"}],\"table\":[{\"cells\":{\"fill\":{\"color\":\"#EBF0F8\"},\"line\":{\"color\":\"white\"}},\"header\":{\"fill\":{\"color\":\"#C8D4E3\"},\"line\":{\"color\":\"white\"}},\"type\":\"table\"}]},\"layout\":{\"annotationdefaults\":{\"arrowcolor\":\"#2a3f5f\",\"arrowhead\":0,\"arrowwidth\":1},\"autotypenumbers\":\"strict\",\"coloraxis\":{\"colorbar\":{\"outlinewidth\":0,\"ticks\":\"\"}},\"colorscale\":{\"diverging\":[[0,\"#8e0152\"],[0.1,\"#c51b7d\"],[0.2,\"#de77ae\"],[0.3,\"#f1b6da\"],[0.4,\"#fde0ef\"],[0.5,\"#f7f7f7\"],[0.6,\"#e6f5d0\"],[0.7,\"#b8e186\"],[0.8,\"#7fbc41\"],[0.9,\"#4d9221\"],[1,\"#276419\"]],\"sequential\":[[0.0,\"#0d0887\"],[0.1111111111111111,\"#46039f\"],[0.2222222222222222,\"#7201a8\"],[0.3333333333333333,\"#9c179e\"],[0.4444444444444444,\"#bd3786\"],[0.5555555555555556,\"#d8576b\"],[0.6666666666666666,\"#ed7953\"],[0.7777777777777778,\"#fb9f3a\"],[0.8888888888888888,\"#fdca26\"],[1.0,\"#f0f921\"]],\"sequentialminus\":[[0.0,\"#0d0887\"],[0.1111111111111111,\"#46039f\"],[0.2222222222222222,\"#7201a8\"],[0.3333333333333333,\"#9c179e\"],[0.4444444444444444,\"#bd3786\"],[0.5555555555555556,\"#d8576b\"],[0.6666666666666666,\"#ed7953\"],[0.7777777777777778,\"#fb9f3a\"],[0.8888888888888888,\"#fdca26\"],[1.0,\"#f0f921\"]]},\"colorway\":[\"#636efa\",\"#EF553B\",\"#00cc96\",\"#ab63fa\",\"#FFA15A\",\"#19d3f3\",\"#FF6692\",\"#B6E880\",\"#FF97FF\",\"#FECB52\"],\"font\":{\"color\":\"#2a3f5f\"},\"geo\":{\"bgcolor\":\"white\",\"lakecolor\":\"white\",\"landcolor\":\"#E5ECF6\",\"showlakes\":true,\"showland\":true,\"subunitcolor\":\"white\"},\"hoverlabel\":{\"align\":\"left\"},\"hovermode\":\"closest\",\"mapbox\":{\"style\":\"light\"},\"paper_bgcolor\":\"white\",\"plot_bgcolor\":\"#E5ECF6\",\"polar\":{\"angularaxis\":{\"gridcolor\":\"white\",\"linecolor\":\"white\",\"ticks\":\"\"},\"bgcolor\":\"#E5ECF6\",\"radialaxis\":{\"gridcolor\":\"white\",\"linecolor\":\"white\",\"ticks\":\"\"}},\"scene\":{\"xaxis\":{\"backgroundcolor\":\"#E5ECF6\",\"gridcolor\":\"white\",\"gridwidth\":2,\"linecolor\":\"white\",\"showbackground\":true,\"ticks\":\"\",\"zerolinecolor\":\"white\"},\"yaxis\":{\"backgroundcolor\":\"#E5ECF6\",\"gridcolor\":\"white\",\"gridwidth\":2,\"linecolor\":\"white\",\"showbackground\":true,\"ticks\":\"\",\"zerolinecolor\":\"white\"},\"zaxis\":{\"backgroundcolor\":\"#E5ECF6\",\"gridcolor\":\"white\",\"gridwidth\":2,\"linecolor\":\"white\",\"showbackground\":true,\"ticks\":\"\",\"zerolinecolor\":\"white\"}},\"shapedefaults\":{\"line\":{\"color\":\"#2a3f5f\"}},\"ternary\":{\"aaxis\":{\"gridcolor\":\"white\",\"linecolor\":\"white\",\"ticks\":\"\"},\"baxis\":{\"gridcolor\":\"white\",\"linecolor\":\"white\",\"ticks\":\"\"},\"bgcolor\":\"#E5ECF6\",\"caxis\":{\"gridcolor\":\"white\",\"linecolor\":\"white\",\"ticks\":\"\"}},\"title\":{\"x\":0.05},\"xaxis\":{\"automargin\":true,\"gridcolor\":\"white\",\"linecolor\":\"white\",\"ticks\":\"\",\"title\":{\"standoff\":15},\"zerolinecolor\":\"white\",\"zerolinewidth\":2},\"yaxis\":{\"automargin\":true,\"gridcolor\":\"white\",\"linecolor\":\"white\",\"ticks\":\"\",\"title\":{\"standoff\":15},\"zerolinecolor\":\"white\",\"zerolinewidth\":2}}}},                        {\"responsive\": true}                    ).then(function(){\n",
              "                            \n",
              "var gd = document.getElementById('5fa3eeba-dac9-4bca-bbbe-212d3b6c8def');\n",
              "var x = new MutationObserver(function (mutations, observer) {{\n",
              "        var display = window.getComputedStyle(gd).display;\n",
              "        if (!display || display === 'none') {{\n",
              "            console.log([gd, 'removed!']);\n",
              "            Plotly.purge(gd);\n",
              "            observer.disconnect();\n",
              "        }}\n",
              "}});\n",
              "\n",
              "// Listen for the removal of the full notebook cells\n",
              "var notebookContainer = gd.closest('#notebook-container');\n",
              "if (notebookContainer) {{\n",
              "    x.observe(notebookContainer, {childList: true});\n",
              "}}\n",
              "\n",
              "// Listen for the clearing of the current output cell\n",
              "var outputEl = gd.closest('.output');\n",
              "if (outputEl) {{\n",
              "    x.observe(outputEl, {childList: true});\n",
              "}}\n",
              "\n",
              "                        })                };                            </script>        </div>\n",
              "</body>\n",
              "</html>"
            ]
          },
          "metadata": {}
        }
      ]
    },
    {
      "cell_type": "markdown",
      "source": [
        "From the line graph, there are some observations we can draw:\n",
        "\n",
        "- There is an increasing trend of robberies over time.\n",
        "\n",
        "- There do not appear to be any obvious outliers.\n",
        "\n",
        "- There are relatively large fluctuations from year to year, up and down.\n",
        "\n",
        "- The fluctuations at later years appear largers than fluctuations at earlier years.\n",
        "\n",
        "- The trend means the dataset is almost certainly non-stationary and the apparent change in fluctuation may also contribute."
      ],
      "metadata": {
        "id": "zjxWYh9ED7sL"
      }
    },
    {
      "cell_type": "markdown",
      "source": [
        "### Density plot"
      ],
      "metadata": {
        "id": "7X8wsP61G3eW"
      }
    },
    {
      "cell_type": "code",
      "source": [
        "import plotly.graph_objects as go\n",
        "import plotly.figure_factory as ff\n",
        "\n",
        "hist_data = [train_set.values]\n",
        "group_labels = ['kde']\n",
        "\n",
        "fig = ff.create_distplot(hist_data, group_labels, bin_size=50)\n",
        "fig.show()"
      ],
      "metadata": {
        "colab": {
          "base_uri": "https://localhost:8080/",
          "height": 542
        },
        "id": "2bEdzTAXDars",
        "outputId": "ac22e3ee-e1a6-4227-9192-e531b5fdd12f"
      },
      "execution_count": 6,
      "outputs": [
        {
          "output_type": "display_data",
          "data": {
            "text/html": [
              "<html>\n",
              "<head><meta charset=\"utf-8\" /></head>\n",
              "<body>\n",
              "    <div>            <script src=\"https://cdnjs.cloudflare.com/ajax/libs/mathjax/2.7.5/MathJax.js?config=TeX-AMS-MML_SVG\"></script><script type=\"text/javascript\">if (window.MathJax) {MathJax.Hub.Config({SVG: {font: \"STIX-Web\"}});}</script>                <script type=\"text/javascript\">window.PlotlyConfig = {MathJaxConfig: 'local'};</script>\n",
              "        <script src=\"https://cdn.plot.ly/plotly-2.8.3.min.js\"></script>                <div id=\"c5dba15c-19ec-45a2-8e23-8d7c44df2fe1\" class=\"plotly-graph-div\" style=\"height:525px; width:100%;\"></div>            <script type=\"text/javascript\">                                    window.PLOTLYENV=window.PLOTLYENV || {};                                    if (document.getElementById(\"c5dba15c-19ec-45a2-8e23-8d7c44df2fe1\")) {                    Plotly.newPlot(                        \"c5dba15c-19ec-45a2-8e23-8d7c44df2fe1\",                        [{\"autobinx\":false,\"histnorm\":\"probability density\",\"legendgroup\":\"kde\",\"marker\":{\"color\":\"rgb(31, 119, 180)\"},\"name\":\"kde\",\"opacity\":0.7,\"x\":[41,39,50,40,43,38,44,35,39,35,29,49,50,59,63,32,39,47,53,60,57,52,70,90,74,62,55,84,94,70,108,139,120,97,126,149,158,124,140,109,114,77,120,133,110,92,97,78,99,107,112,90,98,125,155,190,236,189,174,178,136,161,171,149,184,155,276,224,213,279,268,287,238,213,257,293,212,246,353,339,308,247,257,322,298,273,312,249,286,279,309,401,309,328,353,354,327,324,285,243,241,287,355,460,364,487],\"xaxis\":\"x\",\"xbins\":{\"end\":487.0,\"size\":50,\"start\":29.0},\"yaxis\":\"y\",\"type\":\"histogram\"},{\"legendgroup\":\"kde\",\"marker\":{\"color\":\"rgb(31, 119, 180)\"},\"mode\":\"lines\",\"name\":\"kde\",\"showlegend\":false,\"x\":[29.0,29.916,30.832,31.748,32.664,33.58,34.496,35.412,36.328,37.244,38.16,39.076,39.992000000000004,40.908,41.824,42.74,43.656,44.572,45.488,46.403999999999996,47.32,48.236000000000004,49.152,50.068,50.984,51.9,52.816,53.732,54.647999999999996,55.564,56.480000000000004,57.396,58.312,59.228,60.144,61.06,61.976,62.892,63.808,64.72399999999999,65.64,66.556,67.47200000000001,68.388,69.304,70.22,71.136,72.05199999999999,72.968,73.884,74.8,75.71600000000001,76.632,77.548,78.464,79.38,80.29599999999999,81.212,82.128,83.044,83.96000000000001,84.876,85.792,86.708,87.624,88.53999999999999,89.456,90.372,91.288,92.20400000000001,93.12,94.036,94.952,95.868,96.784,97.7,98.616,99.532,100.448,101.364,102.28,103.196,104.112,105.028,105.944,106.86,107.776,108.692,109.608,110.524,111.44,112.356,113.272,114.188,115.104,116.02,116.936,117.852,118.768,119.684,120.6,121.516,122.432,123.348,124.264,125.18,126.096,127.012,127.928,128.844,129.76,130.676,131.59199999999998,132.50799999999998,133.424,134.34,135.256,136.172,137.088,138.00400000000002,138.92000000000002,139.836,140.752,141.668,142.584,143.5,144.416,145.332,146.248,147.164,148.07999999999998,148.99599999999998,149.912,150.828,151.744,152.66,153.576,154.49200000000002,155.40800000000002,156.324,157.24,158.156,159.072,159.988,160.904,161.82,162.736,163.652,164.568,165.484,166.4,167.316,168.232,169.148,170.064,170.98,171.896,172.812,173.728,174.644,175.56,176.476,177.392,178.308,179.224,180.14,181.056,181.972,182.888,183.804,184.72,185.636,186.552,187.468,188.384,189.3,190.216,191.132,192.048,192.964,193.88,194.796,195.712,196.628,197.544,198.46,199.376,200.292,201.208,202.124,203.04,203.956,204.872,205.788,206.704,207.62,208.536,209.452,210.368,211.284,212.2,213.116,214.032,214.948,215.864,216.78,217.696,218.612,219.528,220.444,221.36,222.276,223.192,224.108,225.024,225.94,226.856,227.772,228.688,229.604,230.52,231.436,232.352,233.268,234.184,235.1,236.016,236.932,237.848,238.764,239.68,240.596,241.512,242.428,243.344,244.26,245.176,246.092,247.008,247.924,248.84,249.756,250.672,251.588,252.504,253.42,254.336,255.252,256.168,257.084,258.0,258.916,259.832,260.748,261.664,262.58000000000004,263.496,264.41200000000003,265.328,266.244,267.15999999999997,268.076,268.99199999999996,269.908,270.824,271.74,272.656,273.572,274.488,275.404,276.32,277.236,278.152,279.068,279.98400000000004,280.9,281.81600000000003,282.73199999999997,283.648,284.56399999999996,285.48,286.396,287.312,288.228,289.144,290.06,290.976,291.892,292.808,293.724,294.64,295.556,296.472,297.388,298.304,299.22,300.136,301.052,301.968,302.884,303.8,304.716,305.632,306.548,307.464,308.38,309.296,310.212,311.128,312.044,312.96,313.876,314.792,315.708,316.624,317.54,318.456,319.372,320.288,321.204,322.12,323.036,323.952,324.868,325.784,326.7,327.616,328.532,329.448,330.364,331.28,332.196,333.112,334.028,334.944,335.86,336.776,337.692,338.608,339.524,340.44,341.356,342.272,343.188,344.104,345.02,345.936,346.852,347.768,348.684,349.6,350.516,351.432,352.348,353.264,354.18,355.096,356.012,356.928,357.844,358.76,359.676,360.592,361.508,362.424,363.34,364.256,365.172,366.088,367.004,367.92,368.836,369.752,370.668,371.584,372.5,373.416,374.332,375.248,376.164,377.08,377.996,378.912,379.828,380.744,381.66,382.576,383.492,384.408,385.324,386.24,387.156,388.072,388.988,389.904,390.82,391.736,392.652,393.568,394.484,395.4,396.316,397.232,398.148,399.064,399.98,400.896,401.812,402.728,403.644,404.56,405.476,406.392,407.308,408.224,409.14,410.056,410.972,411.888,412.804,413.72,414.636,415.552,416.468,417.384,418.3,419.216,420.132,421.048,421.964,422.88,423.796,424.712,425.628,426.544,427.46,428.376,429.292,430.208,431.124,432.04,432.956,433.872,434.788,435.704,436.62,437.536,438.452,439.368,440.284,441.2,442.116,443.032,443.948,444.864,445.78,446.696,447.612,448.528,449.444,450.36,451.276,452.192,453.108,454.024,454.94,455.856,456.772,457.688,458.604,459.52,460.436,461.352,462.268,463.184,464.1,465.016,465.932,466.848,467.764,468.68,469.596,470.512,471.428,472.344,473.26,474.176,475.092,476.008,476.924,477.84,478.756,479.672,480.588,481.504,482.42,483.336,484.252,485.168,486.084],\"xaxis\":\"x\",\"y\":[0.0025459841176945336,0.0025805940187013745,0.002614896504472282,0.0026488721975250935,0.0026825020247079772,0.002715767242418433,0.0027486494610982235,0.002781130668948121,0.0028131932548087837,0.0028448200301567686,0.0028759942501675236,0.0029066996338001374,0.002936920382861846,0.002966641200013483,0.0029958473056805207,0.003024524453837766,0.003052658946639484,0.0030802376478702943,0.0031072479951959457,0.003133678011196927,0.003159516313171594,0.0031847521216993957,0.003209375267958629,0.0032333761997969343,0.0032567459865566447,0.0032794763226607297,0.003301559529968904,0.003322988558917073,0.0033437569884568227,0.0033638590248150973,0.003383289499097649,0.003402043863762927,0.003420118187996336,0.003437509152017521,0.0034542140403563404,0.0034702307341356394,0.003485557702401518,0.003500193992543928,0.0035141392198526325,0.00352739355625534,0.0035399577182865798,0.00355183295433738,0.003563021031236968,0.003573524220218955,0.0035833452823251714,0.00359248745330103,0.003600954428036791,0.0036087503446091793,0.0036158797679779987,0.0036223476733921144,0.003628159429558808,0.0036333207816299953,0.0036378378340579955,0.003641717033372602,0.003644965150930201,0.003647589265684256,0.0036495967470251893,0.003650995237736079,0.0036517926371088245,0.003651997084263693,0.003651616941713156,0.003650660779208828,0.003649137357908253,0.00364705561489597,0.0036444246480910074,0.0036412537015705943,0.003637552151337383,0.003633329491555085,0.0036285953212749416,0.0036233593316727817,0.003617631293814174,0.003611421046962322,0.0036047384874412047,0.0035975935580636735,0.003589996238132016,0.0035819565340159203,0.003573484470310542,0.003564590081575004,0.0035552834046494873,0.003545574471546908,0.0035354733029130778,0.0035249899020473353,0.0035141342494736222,0.003502916298050368,0.003491345968605665,0.0034794331460827666,0.003467187676179401,0.0034546193624630734,0.00344173796394321,0.0034285531930799257,0.0034150747142081784,0.003401312142355044,0.0033872750424272717,0.003372972928745379,0.0033584152649001157,0.0033436114639066703,0.0033285708886315337,0.0033133028524668807,0.0032978166202270016,0.0032821214092414756,0.0032662263906196444,0.0032501406906612954,0.0032338733923885843,0.0032174335371745987,0.0032008301264443576,0.0031840721234246416,0.003167168454919389,0.003150128013088294,0.0031329596572066787,0.0031156722153856654,0.003098274486232329,0.003080775240430435,0.003063183222223234,0.0030455071507807167,0.003027755721434678,0.003009937606765955,0.002992061457529183,0.0029741359034014822,0.0029561695535425046,0.00293817099695435,0.0029201488026309097,0.0029021115194872915,0.002884067676061024,0.0028660257799778322,0.0028479943171758173,0.0028299817508829666,0.0028119965203438706,0.002794047039292714,0.0027761416941704388,0.0027582888420850968,0.002740496808515374,0.002722773884758124,0.002705128325121812,0.0026875683438685846,0.0026701021119085798,0.00265273775325095,0.002635483341216904,0.002618346894420832,0.0026013363725263723,0.002584459671784989,0.0025677246203653424,0.002551138973482412,0.002534710408335928,0.002518446518868303,0.0025023548103528556,0.0024864426938235543,0.0024707174803581186,0.0024551863752267445,0.00243985647191914,0.002424734746062954,0.0024098280492471148,0.0023951431027638623,0.002380686491283523,0.0023664646564765116,0.0023524838905970282,0.002338750330043353,0.002325269948909626,0.0023120485525442193,0.0022990917711299074,0.0022864050533010064,0.002273993659812826,0.0022618626572785986,0.0022500169119891744,0.0022384610838305265,0.0022271996203141724,0.0022162367507352707,0.002205576480473189,0.002195222585448924,0.0021851786067536524,0.0021754478454623204,0.002166033357645932,0.0021569379495957777,0.0021481641732725453,0.0021397143219927892,0.002131590426364797,0.002123794250485501,0.002116327288409429,0.002109190760900362,0.002102385612475621,0.002095912508752476,0.0020897718341054824,0.0020839636896429377,0.002078487891510052,0.0020733439695256725,0.0020685311661588035,0.0020640484358503794,0.0020598944446851013,0.002056067570417343,0.0020525659028544463,0.00204938724459993,0.002046529112158373,0.002043988737403004,0.002041763069406195,0.002039848776632321,0.0020382422494916565,0.0020369396032532093,0.0020359366813136183,0.0020352290588184847,0.002034812046631744,0.0020346806956479464,0.002034829801441591,0.0020352539092469307,0.0020359473192609716,0.002036904092261719,0.0020381180555330614,0.0020395828090870316,0.00204129173217361,0.0020432379900676245,0.0020454145411217413,0.0020478141440740593,0.0020504293655982577,0.002053252588083855,0.002056276017633642,0.002059491692265053,0.00206289149030172,0.002066467138941342,0.00207021022298553,0.002074112193717141,0.002078164377910391,0.0020823579869588328,0.0020866841261061894,0.002091133803764916,0.0020956979409073088,0.002100367380513959,0.002105132897064394,0.0021099852060547453,0.0021149149735274504,0.0021199128255980416,0.0021249693579643188,0.002130075145383322,0.0021352207511018168,0.0021403967362261882,0.0021455936690180297,0.00215080213410193,0.0021560127415723796,0.0021612161359870576,0.0021664030052341698,0.00217156408926193,0.0021766901886587095,0.0021817721730728627,0.002186800989461692,0.0021917676701595406,0.0021966633407554835,0.0022014792277716528,0.0022062066661337285,0.002210837106425718,0.002215362121921652,0.0022197734153874484,0.0022240628256467204,0.0022282223339048692,0.002232244069826433,0.0022361203173611754,0.0022398435203149995,0.0022434062876623404,0.0022468013985972625,0.0022500218073210317,0.0022530606475644997,0.0022559112368441955,0.002258567080451526,0.002261021875175049,0.002263269512756279,0.0022653040830799996,0.0022671198771005425,0.00226871138950597,0.0022700733211225704,0.002271200581062508,0.0022720882886179093,0.0022727317749050707,0.0022731265842628836,0.002273268475409925,0.0022731534223650366,0.002272777615136552,0.002272137460185631,0.002271229580669484,0.0022700508164705062,0.002268598224017651,0.0022668690759065275,0.0022648608603249984,0.002262571280291187,0.0022599982527109833,0.002257139907262284,0.002253994585113345,0.0022505608374826513,0.0022468374240479034,0.0022428233112116247,0.002238517670231087,0.002233919875220106,0.00222902950103036,0.0022238463210197995,0.002218370304715661,0.0022126016153795314,0.0022065406074818043,0.0022001878240927664,0.0021935439941973894,0.0021866100299407654,0.0021793870238109437,0.0021718762457657343,0.00216407914030982,0.002155997323528319,0.00214763258008268,0.002138986860174519,0.0021300622764827836,0.002120861101079297,0.0021113857623274767,0.002101638841768702,0.0020916230710004676,0.00208134132855021,0.002070796636748269,0.002059992158603191,0.002048931194682193,0.0020376171799992965,0.0020260536809132744,0.0020142443920372157,0.0020021931331611793,0.0019899038461890775,0.001977380592090546,0.0019646275478682903,0.001951649003541045,0.0019384493591419493,0.0019250331217318855,0.0019114049024269812,0.001897569413439229,0.0018835314651289147,0.001869295963067237,0.0018548679051073559,0.001840252378461791,0.0018254545567839705,0.0018104796972514842,0.001795333137648486,0.0017800202934445113,0.0017645466548668715,0.0017489177839636934,0.0017331393116545878,0.001717216934765878,0.0017011564130473059,0.0016849635661671236,0.0016686442706824684,0.001652204456982019,0.001635650106197948,0.0016189872470842854,0.0016022219528589582,0.0015853603380068376,0.0015684085550413541,0.0015513727912223679,0.0015342592652282008,0.0015170742237799611,0.0014998239382165086,0.001482514701018676,0.0014651528222816255,0.0014477446261345142,0.0014302964471069205,0.001412814626441808,0.0013953055083551218,0.001377775436242442,0.0013602307488334373,0.0013426777762952473,0.0013251228362862024,0.00130757222996171,0.0012900322379344297,0.0012725091161912452,0.0012550090919698476,0.001237538359598132,0.0012201030762999142,0.0012027093579707931,0.0011853632749283401,0.0011680708476410684,0.0011508380424409533,0.0011336707672245237,0.0011165748671478843,0.001099556120321166,0.0010826202335082649,0.0010657728378378236,0.001049019484531707,0.0010323656406573305,0.001015816684910378,0.0009993779034345985,0.0009830544856854458,0.0009668515203444492,0.000950773991291233,0.000934826773640182,0.0009190146298487546,0.0009033422059044153,0.0008878140275971863,0.0008724344968847163,0.0008572078883567266,0.000842138345805575,0.0008272298789095746,0.0008124863600355789,0.0007979115211671597,0.000783508950964536,0.0007692820919622313,0.0007552342379102071,0.0007413685312639718,0.0007276879608289637,0.0007141953595641879,0.0007008934025498572,0.0006877846051234497,0.0006748713211883452,0.0006621557416988502,0.0006496398933251058,0.0006373256373010653,0.0006252146684583593,0.0006133085144485468,0.0006016085351558824,0.000590115922302392,0.0005788316992466929,0.0005677567209776311,0.0005568916743034438,0.000546237078236827,0.0005357932845759071,0.0005255604786807579,0.0005155386804447892,0.0005057277454599462,0.0004961273663743507,0.0004867370744406496,0.00047755624125304144,0.00046858408067060076,0.00045981965092421035,0.00045126185690412334,0.00044290945262485135,0.0004347610438637975,0.0004268150909697829,0.00041906991183731225,0.00041152368504219795,0.00040417445313388836,0.00039702012607959565,0.00039005848485511795,0.00038328718517699684,0.00037670376137044986,0.0003703056303673283,0.00036409009582814237,0.0003580543523820281,0.00035219548997834953,0.0003465104983434867,0.0003409962715361972,0.0003356496125948014,0.0003304672382693286,0.00032544578383162824,0.0003205818079563464,0.000315871797665586,0.0003113121733299582,0.0003068992937186839,0.00030262946109132127,0.0002984989263236433,0.00029450389406015484,0.00029064052788569706,0.00028690495550856104,0.0002832932739475334,0.0002798015547152804,0.0002764258489904982,0.0002731621927712659,0.00027000661200208187,0.0002669551276670961,0.00026400376084210613,0.0002611485376979555,0.00025838549444804346,0.0002557106822327408,0.00025312017193361694,0.00025061005891047737,0.00024817646765435195,0.00024581555634969405,0.00024352352133920528,0.000241296601484857,0.00023913108241885086,0.00023702330067843855,0.00023496964771872373,0.0002329665737977665,0.00023101059172853122,0.0002290982804924505,0.00022722628870961312,0.00022539133796084016,0.00022359022595716923,0.00022181982955254748,0.0002200771075958095,0.00021835910361831082,0.00021666294835389214,0.00021498586208815342,0.0002133251568343422,0.00021167823833348096,0.00021004260787669355,0.0002084158639480301,0.0002067957036864345,0.00020517992416584432,0.00020356642349277356,0.000201953201721078,0.00020033836158396464,0.00019872010904366916,0.0001970967536595805,0.00019546670877595773,0.00019382849153073707,0.00019218072268728888,0.0001905221262913329,0.00018885152915556948,0.0001871678601749293,0.0001854701494756767,0.0001837575274019363,0.0001820292233435256,0.0001802845644092961,0.00017852297395047943,0.00017674396993882895],\"yaxis\":\"y\",\"type\":\"scatter\"},{\"legendgroup\":\"kde\",\"marker\":{\"color\":\"rgb(31, 119, 180)\",\"symbol\":\"line-ns-open\"},\"mode\":\"markers\",\"name\":\"kde\",\"showlegend\":false,\"x\":[41,39,50,40,43,38,44,35,39,35,29,49,50,59,63,32,39,47,53,60,57,52,70,90,74,62,55,84,94,70,108,139,120,97,126,149,158,124,140,109,114,77,120,133,110,92,97,78,99,107,112,90,98,125,155,190,236,189,174,178,136,161,171,149,184,155,276,224,213,279,268,287,238,213,257,293,212,246,353,339,308,247,257,322,298,273,312,249,286,279,309,401,309,328,353,354,327,324,285,243,241,287,355,460,364,487],\"xaxis\":\"x\",\"y\":[\"kde\",\"kde\",\"kde\",\"kde\",\"kde\",\"kde\",\"kde\",\"kde\",\"kde\",\"kde\",\"kde\",\"kde\",\"kde\",\"kde\",\"kde\",\"kde\",\"kde\",\"kde\",\"kde\",\"kde\",\"kde\",\"kde\",\"kde\",\"kde\",\"kde\",\"kde\",\"kde\",\"kde\",\"kde\",\"kde\",\"kde\",\"kde\",\"kde\",\"kde\",\"kde\",\"kde\",\"kde\",\"kde\",\"kde\",\"kde\",\"kde\",\"kde\",\"kde\",\"kde\",\"kde\",\"kde\",\"kde\",\"kde\",\"kde\",\"kde\",\"kde\",\"kde\",\"kde\",\"kde\",\"kde\",\"kde\",\"kde\",\"kde\",\"kde\",\"kde\",\"kde\",\"kde\",\"kde\",\"kde\",\"kde\",\"kde\",\"kde\",\"kde\",\"kde\",\"kde\",\"kde\",\"kde\",\"kde\",\"kde\",\"kde\",\"kde\",\"kde\",\"kde\",\"kde\",\"kde\",\"kde\",\"kde\",\"kde\",\"kde\",\"kde\",\"kde\",\"kde\",\"kde\",\"kde\",\"kde\",\"kde\",\"kde\",\"kde\",\"kde\",\"kde\",\"kde\",\"kde\",\"kde\",\"kde\",\"kde\",\"kde\",\"kde\",\"kde\",\"kde\",\"kde\",\"kde\"],\"yaxis\":\"y2\",\"type\":\"scatter\"}],                        {\"barmode\":\"overlay\",\"hovermode\":\"closest\",\"legend\":{\"traceorder\":\"reversed\"},\"xaxis\":{\"anchor\":\"y2\",\"domain\":[0.0,1.0],\"zeroline\":false},\"yaxis\":{\"anchor\":\"free\",\"domain\":[0.35,1],\"position\":0.0},\"yaxis2\":{\"anchor\":\"x\",\"domain\":[0,0.25],\"dtick\":1,\"showticklabels\":false},\"template\":{\"data\":{\"bar\":[{\"error_x\":{\"color\":\"#2a3f5f\"},\"error_y\":{\"color\":\"#2a3f5f\"},\"marker\":{\"line\":{\"color\":\"#E5ECF6\",\"width\":0.5},\"pattern\":{\"fillmode\":\"overlay\",\"size\":10,\"solidity\":0.2}},\"type\":\"bar\"}],\"barpolar\":[{\"marker\":{\"line\":{\"color\":\"#E5ECF6\",\"width\":0.5},\"pattern\":{\"fillmode\":\"overlay\",\"size\":10,\"solidity\":0.2}},\"type\":\"barpolar\"}],\"carpet\":[{\"aaxis\":{\"endlinecolor\":\"#2a3f5f\",\"gridcolor\":\"white\",\"linecolor\":\"white\",\"minorgridcolor\":\"white\",\"startlinecolor\":\"#2a3f5f\"},\"baxis\":{\"endlinecolor\":\"#2a3f5f\",\"gridcolor\":\"white\",\"linecolor\":\"white\",\"minorgridcolor\":\"white\",\"startlinecolor\":\"#2a3f5f\"},\"type\":\"carpet\"}],\"choropleth\":[{\"colorbar\":{\"outlinewidth\":0,\"ticks\":\"\"},\"type\":\"choropleth\"}],\"contour\":[{\"colorbar\":{\"outlinewidth\":0,\"ticks\":\"\"},\"colorscale\":[[0.0,\"#0d0887\"],[0.1111111111111111,\"#46039f\"],[0.2222222222222222,\"#7201a8\"],[0.3333333333333333,\"#9c179e\"],[0.4444444444444444,\"#bd3786\"],[0.5555555555555556,\"#d8576b\"],[0.6666666666666666,\"#ed7953\"],[0.7777777777777778,\"#fb9f3a\"],[0.8888888888888888,\"#fdca26\"],[1.0,\"#f0f921\"]],\"type\":\"contour\"}],\"contourcarpet\":[{\"colorbar\":{\"outlinewidth\":0,\"ticks\":\"\"},\"type\":\"contourcarpet\"}],\"heatmap\":[{\"colorbar\":{\"outlinewidth\":0,\"ticks\":\"\"},\"colorscale\":[[0.0,\"#0d0887\"],[0.1111111111111111,\"#46039f\"],[0.2222222222222222,\"#7201a8\"],[0.3333333333333333,\"#9c179e\"],[0.4444444444444444,\"#bd3786\"],[0.5555555555555556,\"#d8576b\"],[0.6666666666666666,\"#ed7953\"],[0.7777777777777778,\"#fb9f3a\"],[0.8888888888888888,\"#fdca26\"],[1.0,\"#f0f921\"]],\"type\":\"heatmap\"}],\"heatmapgl\":[{\"colorbar\":{\"outlinewidth\":0,\"ticks\":\"\"},\"colorscale\":[[0.0,\"#0d0887\"],[0.1111111111111111,\"#46039f\"],[0.2222222222222222,\"#7201a8\"],[0.3333333333333333,\"#9c179e\"],[0.4444444444444444,\"#bd3786\"],[0.5555555555555556,\"#d8576b\"],[0.6666666666666666,\"#ed7953\"],[0.7777777777777778,\"#fb9f3a\"],[0.8888888888888888,\"#fdca26\"],[1.0,\"#f0f921\"]],\"type\":\"heatmapgl\"}],\"histogram\":[{\"marker\":{\"pattern\":{\"fillmode\":\"overlay\",\"size\":10,\"solidity\":0.2}},\"type\":\"histogram\"}],\"histogram2d\":[{\"colorbar\":{\"outlinewidth\":0,\"ticks\":\"\"},\"colorscale\":[[0.0,\"#0d0887\"],[0.1111111111111111,\"#46039f\"],[0.2222222222222222,\"#7201a8\"],[0.3333333333333333,\"#9c179e\"],[0.4444444444444444,\"#bd3786\"],[0.5555555555555556,\"#d8576b\"],[0.6666666666666666,\"#ed7953\"],[0.7777777777777778,\"#fb9f3a\"],[0.8888888888888888,\"#fdca26\"],[1.0,\"#f0f921\"]],\"type\":\"histogram2d\"}],\"histogram2dcontour\":[{\"colorbar\":{\"outlinewidth\":0,\"ticks\":\"\"},\"colorscale\":[[0.0,\"#0d0887\"],[0.1111111111111111,\"#46039f\"],[0.2222222222222222,\"#7201a8\"],[0.3333333333333333,\"#9c179e\"],[0.4444444444444444,\"#bd3786\"],[0.5555555555555556,\"#d8576b\"],[0.6666666666666666,\"#ed7953\"],[0.7777777777777778,\"#fb9f3a\"],[0.8888888888888888,\"#fdca26\"],[1.0,\"#f0f921\"]],\"type\":\"histogram2dcontour\"}],\"mesh3d\":[{\"colorbar\":{\"outlinewidth\":0,\"ticks\":\"\"},\"type\":\"mesh3d\"}],\"parcoords\":[{\"line\":{\"colorbar\":{\"outlinewidth\":0,\"ticks\":\"\"}},\"type\":\"parcoords\"}],\"pie\":[{\"automargin\":true,\"type\":\"pie\"}],\"scatter\":[{\"marker\":{\"colorbar\":{\"outlinewidth\":0,\"ticks\":\"\"}},\"type\":\"scatter\"}],\"scatter3d\":[{\"line\":{\"colorbar\":{\"outlinewidth\":0,\"ticks\":\"\"}},\"marker\":{\"colorbar\":{\"outlinewidth\":0,\"ticks\":\"\"}},\"type\":\"scatter3d\"}],\"scattercarpet\":[{\"marker\":{\"colorbar\":{\"outlinewidth\":0,\"ticks\":\"\"}},\"type\":\"scattercarpet\"}],\"scattergeo\":[{\"marker\":{\"colorbar\":{\"outlinewidth\":0,\"ticks\":\"\"}},\"type\":\"scattergeo\"}],\"scattergl\":[{\"marker\":{\"colorbar\":{\"outlinewidth\":0,\"ticks\":\"\"}},\"type\":\"scattergl\"}],\"scattermapbox\":[{\"marker\":{\"colorbar\":{\"outlinewidth\":0,\"ticks\":\"\"}},\"type\":\"scattermapbox\"}],\"scatterpolar\":[{\"marker\":{\"colorbar\":{\"outlinewidth\":0,\"ticks\":\"\"}},\"type\":\"scatterpolar\"}],\"scatterpolargl\":[{\"marker\":{\"colorbar\":{\"outlinewidth\":0,\"ticks\":\"\"}},\"type\":\"scatterpolargl\"}],\"scatterternary\":[{\"marker\":{\"colorbar\":{\"outlinewidth\":0,\"ticks\":\"\"}},\"type\":\"scatterternary\"}],\"surface\":[{\"colorbar\":{\"outlinewidth\":0,\"ticks\":\"\"},\"colorscale\":[[0.0,\"#0d0887\"],[0.1111111111111111,\"#46039f\"],[0.2222222222222222,\"#7201a8\"],[0.3333333333333333,\"#9c179e\"],[0.4444444444444444,\"#bd3786\"],[0.5555555555555556,\"#d8576b\"],[0.6666666666666666,\"#ed7953\"],[0.7777777777777778,\"#fb9f3a\"],[0.8888888888888888,\"#fdca26\"],[1.0,\"#f0f921\"]],\"type\":\"surface\"}],\"table\":[{\"cells\":{\"fill\":{\"color\":\"#EBF0F8\"},\"line\":{\"color\":\"white\"}},\"header\":{\"fill\":{\"color\":\"#C8D4E3\"},\"line\":{\"color\":\"white\"}},\"type\":\"table\"}]},\"layout\":{\"annotationdefaults\":{\"arrowcolor\":\"#2a3f5f\",\"arrowhead\":0,\"arrowwidth\":1},\"autotypenumbers\":\"strict\",\"coloraxis\":{\"colorbar\":{\"outlinewidth\":0,\"ticks\":\"\"}},\"colorscale\":{\"diverging\":[[0,\"#8e0152\"],[0.1,\"#c51b7d\"],[0.2,\"#de77ae\"],[0.3,\"#f1b6da\"],[0.4,\"#fde0ef\"],[0.5,\"#f7f7f7\"],[0.6,\"#e6f5d0\"],[0.7,\"#b8e186\"],[0.8,\"#7fbc41\"],[0.9,\"#4d9221\"],[1,\"#276419\"]],\"sequential\":[[0.0,\"#0d0887\"],[0.1111111111111111,\"#46039f\"],[0.2222222222222222,\"#7201a8\"],[0.3333333333333333,\"#9c179e\"],[0.4444444444444444,\"#bd3786\"],[0.5555555555555556,\"#d8576b\"],[0.6666666666666666,\"#ed7953\"],[0.7777777777777778,\"#fb9f3a\"],[0.8888888888888888,\"#fdca26\"],[1.0,\"#f0f921\"]],\"sequentialminus\":[[0.0,\"#0d0887\"],[0.1111111111111111,\"#46039f\"],[0.2222222222222222,\"#7201a8\"],[0.3333333333333333,\"#9c179e\"],[0.4444444444444444,\"#bd3786\"],[0.5555555555555556,\"#d8576b\"],[0.6666666666666666,\"#ed7953\"],[0.7777777777777778,\"#fb9f3a\"],[0.8888888888888888,\"#fdca26\"],[1.0,\"#f0f921\"]]},\"colorway\":[\"#636efa\",\"#EF553B\",\"#00cc96\",\"#ab63fa\",\"#FFA15A\",\"#19d3f3\",\"#FF6692\",\"#B6E880\",\"#FF97FF\",\"#FECB52\"],\"font\":{\"color\":\"#2a3f5f\"},\"geo\":{\"bgcolor\":\"white\",\"lakecolor\":\"white\",\"landcolor\":\"#E5ECF6\",\"showlakes\":true,\"showland\":true,\"subunitcolor\":\"white\"},\"hoverlabel\":{\"align\":\"left\"},\"hovermode\":\"closest\",\"mapbox\":{\"style\":\"light\"},\"paper_bgcolor\":\"white\",\"plot_bgcolor\":\"#E5ECF6\",\"polar\":{\"angularaxis\":{\"gridcolor\":\"white\",\"linecolor\":\"white\",\"ticks\":\"\"},\"bgcolor\":\"#E5ECF6\",\"radialaxis\":{\"gridcolor\":\"white\",\"linecolor\":\"white\",\"ticks\":\"\"}},\"scene\":{\"xaxis\":{\"backgroundcolor\":\"#E5ECF6\",\"gridcolor\":\"white\",\"gridwidth\":2,\"linecolor\":\"white\",\"showbackground\":true,\"ticks\":\"\",\"zerolinecolor\":\"white\"},\"yaxis\":{\"backgroundcolor\":\"#E5ECF6\",\"gridcolor\":\"white\",\"gridwidth\":2,\"linecolor\":\"white\",\"showbackground\":true,\"ticks\":\"\",\"zerolinecolor\":\"white\"},\"zaxis\":{\"backgroundcolor\":\"#E5ECF6\",\"gridcolor\":\"white\",\"gridwidth\":2,\"linecolor\":\"white\",\"showbackground\":true,\"ticks\":\"\",\"zerolinecolor\":\"white\"}},\"shapedefaults\":{\"line\":{\"color\":\"#2a3f5f\"}},\"ternary\":{\"aaxis\":{\"gridcolor\":\"white\",\"linecolor\":\"white\",\"ticks\":\"\"},\"baxis\":{\"gridcolor\":\"white\",\"linecolor\":\"white\",\"ticks\":\"\"},\"bgcolor\":\"#E5ECF6\",\"caxis\":{\"gridcolor\":\"white\",\"linecolor\":\"white\",\"ticks\":\"\"}},\"title\":{\"x\":0.05},\"xaxis\":{\"automargin\":true,\"gridcolor\":\"white\",\"linecolor\":\"white\",\"ticks\":\"\",\"title\":{\"standoff\":15},\"zerolinecolor\":\"white\",\"zerolinewidth\":2},\"yaxis\":{\"automargin\":true,\"gridcolor\":\"white\",\"linecolor\":\"white\",\"ticks\":\"\",\"title\":{\"standoff\":15},\"zerolinecolor\":\"white\",\"zerolinewidth\":2}}}},                        {\"responsive\": true}                    ).then(function(){\n",
              "                            \n",
              "var gd = document.getElementById('c5dba15c-19ec-45a2-8e23-8d7c44df2fe1');\n",
              "var x = new MutationObserver(function (mutations, observer) {{\n",
              "        var display = window.getComputedStyle(gd).display;\n",
              "        if (!display || display === 'none') {{\n",
              "            console.log([gd, 'removed!']);\n",
              "            Plotly.purge(gd);\n",
              "            observer.disconnect();\n",
              "        }}\n",
              "}});\n",
              "\n",
              "// Listen for the removal of the full notebook cells\n",
              "var notebookContainer = gd.closest('#notebook-container');\n",
              "if (notebookContainer) {{\n",
              "    x.observe(notebookContainer, {childList: true});\n",
              "}}\n",
              "\n",
              "// Listen for the clearing of the current output cell\n",
              "var outputEl = gd.closest('.output');\n",
              "if (outputEl) {{\n",
              "    x.observe(outputEl, {childList: true});\n",
              "}}\n",
              "\n",
              "                        })                };                            </script>        </div>\n",
              "</body>\n",
              "</html>"
            ]
          },
          "metadata": {}
        }
      ]
    },
    {
      "cell_type": "markdown",
      "source": [
        "From the density plots, there are some observations we can draw:\n",
        "\n",
        "- The distribution is not Gaussian.\n",
        "\n",
        "- The distribution is left-shifted and may be exponential or a double Gaussian."
      ],
      "metadata": {
        "id": "B4St_m7KaFI3"
      }
    },
    {
      "cell_type": "markdown",
      "source": [
        "### Box and whisker plots"
      ],
      "metadata": {
        "id": "xcBoeU0ReqTJ"
      }
    },
    {
      "cell_type": "code",
      "source": [
        "import plotly.graph_objects as go\n",
        "\n",
        "groups = train_set[:'1973'].groupby(pd.Grouper(freq='A'))\n",
        "\n",
        "fig = go.Figure()\n",
        "\n",
        "for name, group in groups:\n",
        "    fig.add_trace(go.Box(name=name.year,\n",
        "                  y=group.values))\n",
        "\n",
        "fig.show()"
      ],
      "metadata": {
        "colab": {
          "base_uri": "https://localhost:8080/",
          "height": 542
        },
        "id": "L1nzkp8jL6Ih",
        "outputId": "3f514576-a199-41c9-abca-3fd4da92e6ab"
      },
      "execution_count": 7,
      "outputs": [
        {
          "output_type": "display_data",
          "data": {
            "text/html": [
              "<html>\n",
              "<head><meta charset=\"utf-8\" /></head>\n",
              "<body>\n",
              "    <div>            <script src=\"https://cdnjs.cloudflare.com/ajax/libs/mathjax/2.7.5/MathJax.js?config=TeX-AMS-MML_SVG\"></script><script type=\"text/javascript\">if (window.MathJax) {MathJax.Hub.Config({SVG: {font: \"STIX-Web\"}});}</script>                <script type=\"text/javascript\">window.PlotlyConfig = {MathJaxConfig: 'local'};</script>\n",
              "        <script src=\"https://cdn.plot.ly/plotly-2.8.3.min.js\"></script>                <div id=\"b3d6af64-3148-4be3-b1c0-d37d0987ddaf\" class=\"plotly-graph-div\" style=\"height:525px; width:100%;\"></div>            <script type=\"text/javascript\">                                    window.PLOTLYENV=window.PLOTLYENV || {};                                    if (document.getElementById(\"b3d6af64-3148-4be3-b1c0-d37d0987ddaf\")) {                    Plotly.newPlot(                        \"b3d6af64-3148-4be3-b1c0-d37d0987ddaf\",                        [{\"name\":\"1966\",\"y\":[41,39,50,40,43,38,44,35,39,35,29,49],\"type\":\"box\"},{\"name\":\"1967\",\"y\":[50,59,63,32,39,47,53,60,57,52,70,90],\"type\":\"box\"},{\"name\":\"1968\",\"y\":[74,62,55,84,94,70,108,139,120,97,126,149],\"type\":\"box\"},{\"name\":\"1969\",\"y\":[158,124,140,109,114,77,120,133,110,92,97,78],\"type\":\"box\"},{\"name\":\"1970\",\"y\":[99,107,112,90,98,125,155,190,236,189,174,178],\"type\":\"box\"},{\"name\":\"1971\",\"y\":[136,161,171,149,184,155,276,224,213,279,268,287],\"type\":\"box\"},{\"name\":\"1972\",\"y\":[238,213,257,293,212,246,353,339,308,247,257,322],\"type\":\"box\"},{\"name\":\"1973\",\"y\":[298,273,312,249,286,279,309,401,309,328,353,354],\"type\":\"box\"}],                        {\"template\":{\"data\":{\"bar\":[{\"error_x\":{\"color\":\"#2a3f5f\"},\"error_y\":{\"color\":\"#2a3f5f\"},\"marker\":{\"line\":{\"color\":\"#E5ECF6\",\"width\":0.5},\"pattern\":{\"fillmode\":\"overlay\",\"size\":10,\"solidity\":0.2}},\"type\":\"bar\"}],\"barpolar\":[{\"marker\":{\"line\":{\"color\":\"#E5ECF6\",\"width\":0.5},\"pattern\":{\"fillmode\":\"overlay\",\"size\":10,\"solidity\":0.2}},\"type\":\"barpolar\"}],\"carpet\":[{\"aaxis\":{\"endlinecolor\":\"#2a3f5f\",\"gridcolor\":\"white\",\"linecolor\":\"white\",\"minorgridcolor\":\"white\",\"startlinecolor\":\"#2a3f5f\"},\"baxis\":{\"endlinecolor\":\"#2a3f5f\",\"gridcolor\":\"white\",\"linecolor\":\"white\",\"minorgridcolor\":\"white\",\"startlinecolor\":\"#2a3f5f\"},\"type\":\"carpet\"}],\"choropleth\":[{\"colorbar\":{\"outlinewidth\":0,\"ticks\":\"\"},\"type\":\"choropleth\"}],\"contour\":[{\"colorbar\":{\"outlinewidth\":0,\"ticks\":\"\"},\"colorscale\":[[0.0,\"#0d0887\"],[0.1111111111111111,\"#46039f\"],[0.2222222222222222,\"#7201a8\"],[0.3333333333333333,\"#9c179e\"],[0.4444444444444444,\"#bd3786\"],[0.5555555555555556,\"#d8576b\"],[0.6666666666666666,\"#ed7953\"],[0.7777777777777778,\"#fb9f3a\"],[0.8888888888888888,\"#fdca26\"],[1.0,\"#f0f921\"]],\"type\":\"contour\"}],\"contourcarpet\":[{\"colorbar\":{\"outlinewidth\":0,\"ticks\":\"\"},\"type\":\"contourcarpet\"}],\"heatmap\":[{\"colorbar\":{\"outlinewidth\":0,\"ticks\":\"\"},\"colorscale\":[[0.0,\"#0d0887\"],[0.1111111111111111,\"#46039f\"],[0.2222222222222222,\"#7201a8\"],[0.3333333333333333,\"#9c179e\"],[0.4444444444444444,\"#bd3786\"],[0.5555555555555556,\"#d8576b\"],[0.6666666666666666,\"#ed7953\"],[0.7777777777777778,\"#fb9f3a\"],[0.8888888888888888,\"#fdca26\"],[1.0,\"#f0f921\"]],\"type\":\"heatmap\"}],\"heatmapgl\":[{\"colorbar\":{\"outlinewidth\":0,\"ticks\":\"\"},\"colorscale\":[[0.0,\"#0d0887\"],[0.1111111111111111,\"#46039f\"],[0.2222222222222222,\"#7201a8\"],[0.3333333333333333,\"#9c179e\"],[0.4444444444444444,\"#bd3786\"],[0.5555555555555556,\"#d8576b\"],[0.6666666666666666,\"#ed7953\"],[0.7777777777777778,\"#fb9f3a\"],[0.8888888888888888,\"#fdca26\"],[1.0,\"#f0f921\"]],\"type\":\"heatmapgl\"}],\"histogram\":[{\"marker\":{\"pattern\":{\"fillmode\":\"overlay\",\"size\":10,\"solidity\":0.2}},\"type\":\"histogram\"}],\"histogram2d\":[{\"colorbar\":{\"outlinewidth\":0,\"ticks\":\"\"},\"colorscale\":[[0.0,\"#0d0887\"],[0.1111111111111111,\"#46039f\"],[0.2222222222222222,\"#7201a8\"],[0.3333333333333333,\"#9c179e\"],[0.4444444444444444,\"#bd3786\"],[0.5555555555555556,\"#d8576b\"],[0.6666666666666666,\"#ed7953\"],[0.7777777777777778,\"#fb9f3a\"],[0.8888888888888888,\"#fdca26\"],[1.0,\"#f0f921\"]],\"type\":\"histogram2d\"}],\"histogram2dcontour\":[{\"colorbar\":{\"outlinewidth\":0,\"ticks\":\"\"},\"colorscale\":[[0.0,\"#0d0887\"],[0.1111111111111111,\"#46039f\"],[0.2222222222222222,\"#7201a8\"],[0.3333333333333333,\"#9c179e\"],[0.4444444444444444,\"#bd3786\"],[0.5555555555555556,\"#d8576b\"],[0.6666666666666666,\"#ed7953\"],[0.7777777777777778,\"#fb9f3a\"],[0.8888888888888888,\"#fdca26\"],[1.0,\"#f0f921\"]],\"type\":\"histogram2dcontour\"}],\"mesh3d\":[{\"colorbar\":{\"outlinewidth\":0,\"ticks\":\"\"},\"type\":\"mesh3d\"}],\"parcoords\":[{\"line\":{\"colorbar\":{\"outlinewidth\":0,\"ticks\":\"\"}},\"type\":\"parcoords\"}],\"pie\":[{\"automargin\":true,\"type\":\"pie\"}],\"scatter\":[{\"marker\":{\"colorbar\":{\"outlinewidth\":0,\"ticks\":\"\"}},\"type\":\"scatter\"}],\"scatter3d\":[{\"line\":{\"colorbar\":{\"outlinewidth\":0,\"ticks\":\"\"}},\"marker\":{\"colorbar\":{\"outlinewidth\":0,\"ticks\":\"\"}},\"type\":\"scatter3d\"}],\"scattercarpet\":[{\"marker\":{\"colorbar\":{\"outlinewidth\":0,\"ticks\":\"\"}},\"type\":\"scattercarpet\"}],\"scattergeo\":[{\"marker\":{\"colorbar\":{\"outlinewidth\":0,\"ticks\":\"\"}},\"type\":\"scattergeo\"}],\"scattergl\":[{\"marker\":{\"colorbar\":{\"outlinewidth\":0,\"ticks\":\"\"}},\"type\":\"scattergl\"}],\"scattermapbox\":[{\"marker\":{\"colorbar\":{\"outlinewidth\":0,\"ticks\":\"\"}},\"type\":\"scattermapbox\"}],\"scatterpolar\":[{\"marker\":{\"colorbar\":{\"outlinewidth\":0,\"ticks\":\"\"}},\"type\":\"scatterpolar\"}],\"scatterpolargl\":[{\"marker\":{\"colorbar\":{\"outlinewidth\":0,\"ticks\":\"\"}},\"type\":\"scatterpolargl\"}],\"scatterternary\":[{\"marker\":{\"colorbar\":{\"outlinewidth\":0,\"ticks\":\"\"}},\"type\":\"scatterternary\"}],\"surface\":[{\"colorbar\":{\"outlinewidth\":0,\"ticks\":\"\"},\"colorscale\":[[0.0,\"#0d0887\"],[0.1111111111111111,\"#46039f\"],[0.2222222222222222,\"#7201a8\"],[0.3333333333333333,\"#9c179e\"],[0.4444444444444444,\"#bd3786\"],[0.5555555555555556,\"#d8576b\"],[0.6666666666666666,\"#ed7953\"],[0.7777777777777778,\"#fb9f3a\"],[0.8888888888888888,\"#fdca26\"],[1.0,\"#f0f921\"]],\"type\":\"surface\"}],\"table\":[{\"cells\":{\"fill\":{\"color\":\"#EBF0F8\"},\"line\":{\"color\":\"white\"}},\"header\":{\"fill\":{\"color\":\"#C8D4E3\"},\"line\":{\"color\":\"white\"}},\"type\":\"table\"}]},\"layout\":{\"annotationdefaults\":{\"arrowcolor\":\"#2a3f5f\",\"arrowhead\":0,\"arrowwidth\":1},\"autotypenumbers\":\"strict\",\"coloraxis\":{\"colorbar\":{\"outlinewidth\":0,\"ticks\":\"\"}},\"colorscale\":{\"diverging\":[[0,\"#8e0152\"],[0.1,\"#c51b7d\"],[0.2,\"#de77ae\"],[0.3,\"#f1b6da\"],[0.4,\"#fde0ef\"],[0.5,\"#f7f7f7\"],[0.6,\"#e6f5d0\"],[0.7,\"#b8e186\"],[0.8,\"#7fbc41\"],[0.9,\"#4d9221\"],[1,\"#276419\"]],\"sequential\":[[0.0,\"#0d0887\"],[0.1111111111111111,\"#46039f\"],[0.2222222222222222,\"#7201a8\"],[0.3333333333333333,\"#9c179e\"],[0.4444444444444444,\"#bd3786\"],[0.5555555555555556,\"#d8576b\"],[0.6666666666666666,\"#ed7953\"],[0.7777777777777778,\"#fb9f3a\"],[0.8888888888888888,\"#fdca26\"],[1.0,\"#f0f921\"]],\"sequentialminus\":[[0.0,\"#0d0887\"],[0.1111111111111111,\"#46039f\"],[0.2222222222222222,\"#7201a8\"],[0.3333333333333333,\"#9c179e\"],[0.4444444444444444,\"#bd3786\"],[0.5555555555555556,\"#d8576b\"],[0.6666666666666666,\"#ed7953\"],[0.7777777777777778,\"#fb9f3a\"],[0.8888888888888888,\"#fdca26\"],[1.0,\"#f0f921\"]]},\"colorway\":[\"#636efa\",\"#EF553B\",\"#00cc96\",\"#ab63fa\",\"#FFA15A\",\"#19d3f3\",\"#FF6692\",\"#B6E880\",\"#FF97FF\",\"#FECB52\"],\"font\":{\"color\":\"#2a3f5f\"},\"geo\":{\"bgcolor\":\"white\",\"lakecolor\":\"white\",\"landcolor\":\"#E5ECF6\",\"showlakes\":true,\"showland\":true,\"subunitcolor\":\"white\"},\"hoverlabel\":{\"align\":\"left\"},\"hovermode\":\"closest\",\"mapbox\":{\"style\":\"light\"},\"paper_bgcolor\":\"white\",\"plot_bgcolor\":\"#E5ECF6\",\"polar\":{\"angularaxis\":{\"gridcolor\":\"white\",\"linecolor\":\"white\",\"ticks\":\"\"},\"bgcolor\":\"#E5ECF6\",\"radialaxis\":{\"gridcolor\":\"white\",\"linecolor\":\"white\",\"ticks\":\"\"}},\"scene\":{\"xaxis\":{\"backgroundcolor\":\"#E5ECF6\",\"gridcolor\":\"white\",\"gridwidth\":2,\"linecolor\":\"white\",\"showbackground\":true,\"ticks\":\"\",\"zerolinecolor\":\"white\"},\"yaxis\":{\"backgroundcolor\":\"#E5ECF6\",\"gridcolor\":\"white\",\"gridwidth\":2,\"linecolor\":\"white\",\"showbackground\":true,\"ticks\":\"\",\"zerolinecolor\":\"white\"},\"zaxis\":{\"backgroundcolor\":\"#E5ECF6\",\"gridcolor\":\"white\",\"gridwidth\":2,\"linecolor\":\"white\",\"showbackground\":true,\"ticks\":\"\",\"zerolinecolor\":\"white\"}},\"shapedefaults\":{\"line\":{\"color\":\"#2a3f5f\"}},\"ternary\":{\"aaxis\":{\"gridcolor\":\"white\",\"linecolor\":\"white\",\"ticks\":\"\"},\"baxis\":{\"gridcolor\":\"white\",\"linecolor\":\"white\",\"ticks\":\"\"},\"bgcolor\":\"#E5ECF6\",\"caxis\":{\"gridcolor\":\"white\",\"linecolor\":\"white\",\"ticks\":\"\"}},\"title\":{\"x\":0.05},\"xaxis\":{\"automargin\":true,\"gridcolor\":\"white\",\"linecolor\":\"white\",\"ticks\":\"\",\"title\":{\"standoff\":15},\"zerolinecolor\":\"white\",\"zerolinewidth\":2},\"yaxis\":{\"automargin\":true,\"gridcolor\":\"white\",\"linecolor\":\"white\",\"ticks\":\"\",\"title\":{\"standoff\":15},\"zerolinecolor\":\"white\",\"zerolinewidth\":2}}}},                        {\"responsive\": true}                    ).then(function(){\n",
              "                            \n",
              "var gd = document.getElementById('b3d6af64-3148-4be3-b1c0-d37d0987ddaf');\n",
              "var x = new MutationObserver(function (mutations, observer) {{\n",
              "        var display = window.getComputedStyle(gd).display;\n",
              "        if (!display || display === 'none') {{\n",
              "            console.log([gd, 'removed!']);\n",
              "            Plotly.purge(gd);\n",
              "            observer.disconnect();\n",
              "        }}\n",
              "}});\n",
              "\n",
              "// Listen for the removal of the full notebook cells\n",
              "var notebookContainer = gd.closest('#notebook-container');\n",
              "if (notebookContainer) {{\n",
              "    x.observe(notebookContainer, {childList: true});\n",
              "}}\n",
              "\n",
              "// Listen for the clearing of the current output cell\n",
              "var outputEl = gd.closest('.output');\n",
              "if (outputEl) {{\n",
              "    x.observe(outputEl, {childList: true});\n",
              "}}\n",
              "\n",
              "                        })                };                            </script>        </div>\n",
              "</body>\n",
              "</html>"
            ]
          },
          "metadata": {}
        }
      ]
    },
    {
      "cell_type": "markdown",
      "source": [
        "The observations suggest that the year-to-year \n",
        "fluctuations may not be systematic and hard\n",
        "to model. They also suggest that there may be some benefit in clipping the \ffirst two years of\n",
        "data from modeling if it is indeed quite different. This yearly view of the data is an interesting\n",
        "avenue and could be pursued further by looking at summary statistics from year-to-year and\n",
        "changes in summary stats from year-to-year."
      ],
      "metadata": {
        "id": "heu7Judsd0DG"
      }
    },
    {
      "cell_type": "markdown",
      "source": [
        "## ARIMA models"
      ],
      "metadata": {
        "id": "zesEVDqIeGJ_"
      }
    },
    {
      "cell_type": "code",
      "source": [],
      "metadata": {
        "id": "NZPckFXybk_6"
      },
      "execution_count": null,
      "outputs": []
    }
  ]
}